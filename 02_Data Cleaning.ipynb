{
 "cells": [
  {
   "cell_type": "code",
   "execution_count": 431,
   "metadata": {},
   "outputs": [],
   "source": [
    "import pandas as pd"
   ]
  },
  {
   "cell_type": "code",
   "execution_count": 456,
   "metadata": {},
   "outputs": [],
   "source": [
    "df = pd.read_csv('results.csv',sep=\"|\",names=[\"nr\",\"user\",\"timestamp\",\"text\",\"like1\",\"like2\",\"video_views\"],parse_dates=[\"timestamp\"])"
   ]
  },
  {
   "cell_type": "code",
   "execution_count": 457,
   "metadata": {},
   "outputs": [
    {
     "name": "stdout",
     "output_type": "stream",
     "text": [
      "<class 'pandas.core.frame.DataFrame'>\n",
      "RangeIndex: 23913 entries, 0 to 23912\n",
      "Data columns (total 7 columns):\n",
      "nr             23913 non-null int64\n",
      "user           23913 non-null object\n",
      "timestamp      23913 non-null object\n",
      "text           23913 non-null object\n",
      "like1          23913 non-null object\n",
      "like2          23913 non-null object\n",
      "video_views    23913 non-null object\n",
      "dtypes: int64(1), object(6)\n",
      "memory usage: 1.3+ MB\n"
     ]
    }
   ],
   "source": [
    "df.info()"
   ]
  },
  {
   "cell_type": "code",
   "execution_count": 458,
   "metadata": {},
   "outputs": [
    {
     "data": {
      "text/plain": [
       "Error                       624\n",
       "2020-06-17T11:29:44.000Z      2\n",
       "2019-12-09T16:33:11.000Z      2\n",
       "2019-10-10T16:01:03.000Z      2\n",
       "Name: timestamp, dtype: int64"
      ]
     },
     "execution_count": 458,
     "metadata": {},
     "output_type": "execute_result"
    }
   ],
   "source": [
    "df.timestamp.value_counts().head(4)"
   ]
  },
  {
   "cell_type": "code",
   "execution_count": 459,
   "metadata": {},
   "outputs": [],
   "source": [
    "df = df[df.timestamp != \"Error\"]"
   ]
  },
  {
   "cell_type": "code",
   "execution_count": 460,
   "metadata": {},
   "outputs": [],
   "source": [
    "df = df.drop(columns=['nr'])"
   ]
  },
  {
   "cell_type": "code",
   "execution_count": 461,
   "metadata": {},
   "outputs": [
    {
     "data": {
      "text/plain": [
       "23289"
      ]
     },
     "execution_count": 461,
     "metadata": {},
     "output_type": "execute_result"
    }
   ],
   "source": [
    "len(df)"
   ]
  },
  {
   "cell_type": "code",
   "execution_count": 462,
   "metadata": {},
   "outputs": [],
   "source": [
    "df = df.drop_duplicates()"
   ]
  },
  {
   "cell_type": "code",
   "execution_count": 463,
   "metadata": {},
   "outputs": [
    {
     "data": {
      "text/plain": [
       "23275"
      ]
     },
     "execution_count": 463,
     "metadata": {},
     "output_type": "execute_result"
    }
   ],
   "source": [
    "len(df)"
   ]
  },
  {
   "cell_type": "code",
   "execution_count": 464,
   "metadata": {},
   "outputs": [],
   "source": [
    "df[\"date\"] = pd.to_datetime(df.timestamp)"
   ]
  },
  {
   "cell_type": "code",
   "execution_count": 465,
   "metadata": {},
   "outputs": [],
   "source": [
    "df[\"date_year_month\"] = df['date'].apply(lambda x: x.strftime('%Y-%B')) "
   ]
  },
  {
   "cell_type": "code",
   "execution_count": 466,
   "metadata": {},
   "outputs": [],
   "source": [
    "df[\"date_year_month2\"] = df['date'].apply(lambda x: x.strftime('%Y-%m')) "
   ]
  },
  {
   "cell_type": "code",
   "execution_count": 467,
   "metadata": {},
   "outputs": [],
   "source": [
    "df[\"date_year_week\"] = df['date'].apply(lambda x: x.strftime('%Y-%W')) "
   ]
  },
  {
   "cell_type": "code",
   "execution_count": 468,
   "metadata": {},
   "outputs": [
    {
     "data": {
      "text/html": [
       "<div>\n",
       "<style scoped>\n",
       "    .dataframe tbody tr th:only-of-type {\n",
       "        vertical-align: middle;\n",
       "    }\n",
       "\n",
       "    .dataframe tbody tr th {\n",
       "        vertical-align: top;\n",
       "    }\n",
       "\n",
       "    .dataframe thead th {\n",
       "        text-align: right;\n",
       "    }\n",
       "</style>\n",
       "<table border=\"1\" class=\"dataframe\">\n",
       "  <thead>\n",
       "    <tr style=\"text-align: right;\">\n",
       "      <th></th>\n",
       "      <th>user</th>\n",
       "      <th>timestamp</th>\n",
       "      <th>text</th>\n",
       "      <th>like1</th>\n",
       "      <th>like2</th>\n",
       "      <th>video_views</th>\n",
       "      <th>date</th>\n",
       "      <th>date_year_month</th>\n",
       "      <th>date_year_month2</th>\n",
       "      <th>date_year_week</th>\n",
       "    </tr>\n",
       "  </thead>\n",
       "  <tbody>\n",
       "    <tr>\n",
       "      <th>1098</th>\n",
       "      <td>https://www.instagram.com/paola</td>\n",
       "      <td>2019-10-31T16:09:53.000Z</td>\n",
       "      <td>&gt;Happy Halloween 🎃&lt;br&gt;&lt;br&gt;Letztes Bild 😂 Wer v...</td>\n",
       "      <td>137.332</td>\n",
       "      <td>Error</td>\n",
       "      <td>Error</td>\n",
       "      <td>2019-10-31 16:09:53+00:00</td>\n",
       "      <td>2019-October</td>\n",
       "      <td>2019-10</td>\n",
       "      <td>2019-43</td>\n",
       "    </tr>\n",
       "    <tr>\n",
       "      <th>9328</th>\n",
       "      <td>https://www.instagram.com/leoobalys</td>\n",
       "      <td>2019-12-05T15:03:20.000Z</td>\n",
       "      <td>&gt;Glück ist die Summe schöner Erinnerungen.💙&lt;br...</td>\n",
       "      <td>136.019</td>\n",
       "      <td>Error</td>\n",
       "      <td>Error</td>\n",
       "      <td>2019-12-05 15:03:20+00:00</td>\n",
       "      <td>2019-December</td>\n",
       "      <td>2019-12</td>\n",
       "      <td>2019-48</td>\n",
       "    </tr>\n",
       "  </tbody>\n",
       "</table>\n",
       "</div>"
      ],
      "text/plain": [
       "                                     user                 timestamp  \\\n",
       "1098      https://www.instagram.com/paola  2019-10-31T16:09:53.000Z   \n",
       "9328  https://www.instagram.com/leoobalys  2019-12-05T15:03:20.000Z   \n",
       "\n",
       "                                                   text    like1  like2  \\\n",
       "1098  >Happy Halloween 🎃<br><br>Letztes Bild 😂 Wer v...  137.332  Error   \n",
       "9328  >Glück ist die Summe schöner Erinnerungen.💙<br...  136.019  Error   \n",
       "\n",
       "     video_views                      date date_year_month date_year_month2  \\\n",
       "1098       Error 2019-10-31 16:09:53+00:00    2019-October          2019-10   \n",
       "9328       Error 2019-12-05 15:03:20+00:00   2019-December          2019-12   \n",
       "\n",
       "     date_year_week  \n",
       "1098        2019-43  \n",
       "9328        2019-48  "
      ]
     },
     "execution_count": 468,
     "metadata": {},
     "output_type": "execute_result"
    }
   ],
   "source": [
    "df[df.like1 != \"Error\"]"
   ]
  },
  {
   "cell_type": "code",
   "execution_count": 469,
   "metadata": {},
   "outputs": [],
   "source": [
    "df.at[1098, 'like2'] = \"137.332\"\n",
    "df.at[9328, 'like2'] = \"136.019\""
   ]
  },
  {
   "cell_type": "code",
   "execution_count": 470,
   "metadata": {},
   "outputs": [],
   "source": [
    "df = df.drop(columns=['like1'])"
   ]
  },
  {
   "cell_type": "code",
   "execution_count": 471,
   "metadata": {},
   "outputs": [],
   "source": [
    "df = df.rename(columns={\"like2\": \"likes\", \"user\": \"url\"})"
   ]
  },
  {
   "cell_type": "code",
   "execution_count": 472,
   "metadata": {},
   "outputs": [],
   "source": [
    "def clean_url(url):\n",
    "    result = url\n",
    "    if url[-1] == \"/\":\n",
    "        result = url[:-1]\n",
    "    return(result)   "
   ]
  },
  {
   "cell_type": "code",
   "execution_count": 473,
   "metadata": {},
   "outputs": [],
   "source": [
    "df[\"url\"] = df.url.apply(lambda x: clean_url(x))"
   ]
  },
  {
   "cell_type": "code",
   "execution_count": 474,
   "metadata": {},
   "outputs": [],
   "source": [
    "df[\"user\"] = df.url.apply(lambda x: x[26:])"
   ]
  },
  {
   "cell_type": "code",
   "execution_count": 478,
   "metadata": {},
   "outputs": [
    {
     "data": {
      "text/html": [
       "<div>\n",
       "<style scoped>\n",
       "    .dataframe tbody tr th:only-of-type {\n",
       "        vertical-align: middle;\n",
       "    }\n",
       "\n",
       "    .dataframe tbody tr th {\n",
       "        vertical-align: top;\n",
       "    }\n",
       "\n",
       "    .dataframe thead th {\n",
       "        text-align: right;\n",
       "    }\n",
       "</style>\n",
       "<table border=\"1\" class=\"dataframe\">\n",
       "  <thead>\n",
       "    <tr style=\"text-align: right;\">\n",
       "      <th></th>\n",
       "      <th>url</th>\n",
       "      <th>timestamp</th>\n",
       "      <th>text</th>\n",
       "      <th>likes</th>\n",
       "      <th>video_views</th>\n",
       "      <th>date</th>\n",
       "      <th>date_year_month</th>\n",
       "      <th>date_year_month2</th>\n",
       "      <th>date_year_week</th>\n",
       "      <th>user</th>\n",
       "    </tr>\n",
       "  </thead>\n",
       "  <tbody>\n",
       "    <tr>\n",
       "      <th>0</th>\n",
       "      <td>https://www.instagram.com/lisaandlena</td>\n",
       "      <td>2020-07-08T14:35:37.000Z</td>\n",
       "      <td>&gt;„Be the first to be able to laugh at yourself...</td>\n",
       "      <td>206.147</td>\n",
       "      <td>Error</td>\n",
       "      <td>2020-07-08 14:35:37+00:00</td>\n",
       "      <td>2020-July</td>\n",
       "      <td>2020-07</td>\n",
       "      <td>2020-27</td>\n",
       "      <td>lisaandlena</td>\n",
       "    </tr>\n",
       "    <tr>\n",
       "      <th>1</th>\n",
       "      <td>https://www.instagram.com/lisaandlena</td>\n",
       "      <td>2020-07-05T19:33:47.000Z</td>\n",
       "      <td>title=\"Bearbeitet\"&gt;Sunset + great walk throug...</td>\n",
       "      <td>177.308</td>\n",
       "      <td>Error</td>\n",
       "      <td>2020-07-05 19:33:47+00:00</td>\n",
       "      <td>2020-July</td>\n",
       "      <td>2020-07</td>\n",
       "      <td>2020-26</td>\n",
       "      <td>lisaandlena</td>\n",
       "    </tr>\n",
       "    <tr>\n",
       "      <th>2</th>\n",
       "      <td>https://www.instagram.com/lisaandlena</td>\n",
       "      <td>2020-07-04T16:24:07.000Z</td>\n",
       "      <td>&gt;Polaroids are just the best!!</td>\n",
       "      <td>158.780</td>\n",
       "      <td>Error</td>\n",
       "      <td>2020-07-04 16:24:07+00:00</td>\n",
       "      <td>2020-July</td>\n",
       "      <td>2020-07</td>\n",
       "      <td>2020-26</td>\n",
       "      <td>lisaandlena</td>\n",
       "    </tr>\n",
       "    <tr>\n",
       "      <th>3</th>\n",
       "      <td>https://www.instagram.com/lisaandlena</td>\n",
       "      <td>2020-07-03T05:04:25.000Z</td>\n",
       "      <td>title=\"Bearbeitet\"&gt;- Anzeige -&lt;br&gt;We‘re so ex...</td>\n",
       "      <td>289.574</td>\n",
       "      <td>Error</td>\n",
       "      <td>2020-07-03 05:04:25+00:00</td>\n",
       "      <td>2020-July</td>\n",
       "      <td>2020-07</td>\n",
       "      <td>2020-26</td>\n",
       "      <td>lisaandlena</td>\n",
       "    </tr>\n",
       "    <tr>\n",
       "      <th>4</th>\n",
       "      <td>https://www.instagram.com/lisaandlena</td>\n",
       "      <td>2020-06-29T13:43:17.000Z</td>\n",
       "      <td>&gt;What do u think about secondhand? 🕰</td>\n",
       "      <td>200.256</td>\n",
       "      <td>Error</td>\n",
       "      <td>2020-06-29 13:43:17+00:00</td>\n",
       "      <td>2020-June</td>\n",
       "      <td>2020-06</td>\n",
       "      <td>2020-26</td>\n",
       "      <td>lisaandlena</td>\n",
       "    </tr>\n",
       "  </tbody>\n",
       "</table>\n",
       "</div>"
      ],
      "text/plain": [
       "                                     url                 timestamp  \\\n",
       "0  https://www.instagram.com/lisaandlena  2020-07-08T14:35:37.000Z   \n",
       "1  https://www.instagram.com/lisaandlena  2020-07-05T19:33:47.000Z   \n",
       "2  https://www.instagram.com/lisaandlena  2020-07-04T16:24:07.000Z   \n",
       "3  https://www.instagram.com/lisaandlena  2020-07-03T05:04:25.000Z   \n",
       "4  https://www.instagram.com/lisaandlena  2020-06-29T13:43:17.000Z   \n",
       "\n",
       "                                                text    likes video_views  \\\n",
       "0  >„Be the first to be able to laugh at yourself...  206.147       Error   \n",
       "1   title=\"Bearbeitet\">Sunset + great walk throug...  177.308       Error   \n",
       "2                     >Polaroids are just the best!!  158.780       Error   \n",
       "3   title=\"Bearbeitet\">- Anzeige -<br>We‘re so ex...  289.574       Error   \n",
       "4               >What do u think about secondhand? 🕰  200.256       Error   \n",
       "\n",
       "                       date date_year_month date_year_month2 date_year_week  \\\n",
       "0 2020-07-08 14:35:37+00:00       2020-July          2020-07        2020-27   \n",
       "1 2020-07-05 19:33:47+00:00       2020-July          2020-07        2020-26   \n",
       "2 2020-07-04 16:24:07+00:00       2020-July          2020-07        2020-26   \n",
       "3 2020-07-03 05:04:25+00:00       2020-July          2020-07        2020-26   \n",
       "4 2020-06-29 13:43:17+00:00       2020-June          2020-06        2020-26   \n",
       "\n",
       "          user  \n",
       "0  lisaandlena  \n",
       "1  lisaandlena  \n",
       "2  lisaandlena  \n",
       "3  lisaandlena  \n",
       "4  lisaandlena  "
      ]
     },
     "execution_count": 478,
     "metadata": {},
     "output_type": "execute_result"
    }
   ],
   "source": [
    "df.head()"
   ]
  },
  {
   "cell_type": "code",
   "execution_count": 482,
   "metadata": {},
   "outputs": [],
   "source": [
    "df[\"likes\"] = df.likes.apply(lambda x: x.replace(\".\",\"\"))"
   ]
  },
  {
   "cell_type": "code",
   "execution_count": 483,
   "metadata": {},
   "outputs": [],
   "source": [
    "df.to_csv(\"results_cleaned.csv\",sep=\"|\")"
   ]
  },
  {
   "cell_type": "code",
   "execution_count": null,
   "metadata": {},
   "outputs": [],
   "source": []
  }
 ],
 "metadata": {
  "jupytext": {
   "encoding": "# -*- coding: utf-8 -*-",
   "formats": "ipynb,py:percent"
  },
  "kernelspec": {
   "display_name": "Python 3",
   "language": "python",
   "name": "python3"
  },
  "language_info": {
   "codemirror_mode": {
    "name": "ipython",
    "version": 3
   },
   "file_extension": ".py",
   "mimetype": "text/x-python",
   "name": "python",
   "nbconvert_exporter": "python",
   "pygments_lexer": "ipython3",
   "version": "3.7.4"
  }
 },
 "nbformat": 4,
 "nbformat_minor": 2
}
