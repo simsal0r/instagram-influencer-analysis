{
 "cells": [
  {
   "cell_type": "code",
   "execution_count": 1,
   "metadata": {},
   "outputs": [],
   "source": [
    "import pandas as pd\n",
    "import numpy as np\n",
    "from matplotlib import pyplot as plt"
   ]
  },
  {
   "cell_type": "code",
   "execution_count": 3,
   "metadata": {},
   "outputs": [
    {
     "data": {
      "text/html": [
       "<style>.container { width:100% !important; }</style>"
      ],
      "text/plain": [
       "<IPython.core.display.HTML object>"
      ]
     },
     "metadata": {},
     "output_type": "display_data"
    }
   ],
   "source": [
    "from IPython.display import display, HTML\n",
    "\n",
    "#Sets jupyter width to 100%\n",
    "display(HTML(\"<style>.container { width:100% !important; }</style>\"))\n",
    "#pd.set_option('display.max_colwidth', None)"
   ]
  },
  {
   "cell_type": "code",
   "execution_count": 4,
   "metadata": {},
   "outputs": [],
   "source": [
    "#plt.style.use('ggplot')\n",
    "import matplotlib.pyplot as plt\n",
    "plt.rcParams[\"font.family\"] = \"Times New Roman\"\n",
    "plt.rcParams.update({'font.size': 12})"
   ]
  },
  {
   "cell_type": "code",
   "execution_count": 5,
   "metadata": {},
   "outputs": [],
   "source": [
    "df_info = pd.read_csv(\"profiles_data.csv\", sep = \"|\",index_col=0)"
   ]
  },
  {
   "cell_type": "code",
   "execution_count": 97,
   "metadata": {},
   "outputs": [],
   "source": [
    "df_posts = pd.read_csv(\"posts_data.csv\", sep = \"|\",index_col=0)"
   ]
  },
  {
   "cell_type": "code",
   "execution_count": 7,
   "metadata": {},
   "outputs": [],
   "source": [
    "mask = (df_posts['date_year_month2'] < \"2020-07\") & (df_posts['date_year_month2'] > \"2019-02\")\n",
    "df_posts = df_posts.loc[mask]"
   ]
  },
  {
   "cell_type": "code",
   "execution_count": 8,
   "metadata": {},
   "outputs": [
    {
     "data": {
      "text/plain": [
       "22722"
      ]
     },
     "execution_count": 8,
     "metadata": {},
     "output_type": "execute_result"
    }
   ],
   "source": [
    "len(df_posts)"
   ]
  },
  {
   "cell_type": "code",
   "execution_count": 9,
   "metadata": {},
   "outputs": [],
   "source": [
    "plot_df = pd.DataFrame(df_posts.groupby([\"date_year_month2\"]).size())"
   ]
  },
  {
   "cell_type": "markdown",
   "metadata": {},
   "source": [
    "### Plotting functions"
   ]
  },
  {
   "cell_type": "code",
   "execution_count": 12,
   "metadata": {},
   "outputs": [],
   "source": [
    "def plot_two_bars(plot_df):\n",
    "    labels = ['March', 'April', 'May']\n",
    "    means_2019 = [plot_df.loc[\"2019-03\"].values[0], plot_df.loc[\"2019-04\"].values[0], plot_df.loc[\"2019-05\"].values[0]]\n",
    "    means_2020 = [plot_df.loc[\"2020-03\"].values[0], plot_df.loc[\"2020-04\"].values[0], plot_df.loc[\"2020-05\"].values[0]]\n",
    "\n",
    "    x = np.arange(len(labels))  # the label locations\n",
    "    width = 0.35  # the width of the bars\n",
    "\n",
    "    fig, ax = plt.subplots(figsize=(8,5))\n",
    "    rects1 = ax.bar(x - width/2, means_2019, width, label='2019')\n",
    "    rects2 = ax.bar(x + width/2, means_2020, width, label='2020')\n",
    "\n",
    "    # Add some text for labels, title and custom x-axis tick labels, etc.\n",
    "    ax.set_ylabel('Posts')\n",
    "    ax.set_title('Posts by year and month')\n",
    "    ax.set_xticks(x)\n",
    "    ax.set_xticklabels(labels)\n",
    " \n",
    "    def autolabel(rects):\n",
    "        \"\"\"Attach a text label above each bar in *rects*, displaying its height.\"\"\"\n",
    "        for rect in rects:\n",
    "            height = rect.get_height()\n",
    "            ax.annotate('{}'.format(height),\n",
    "                        xy=(rect.get_x() + rect.get_width() / 2, height),\n",
    "                        xytext=(0, 3),  # 3 points vertical offset\n",
    "                        textcoords=\"offset points\",\n",
    "                        ha='center', va='bottom')\n",
    "\n",
    "    autolabel(rects1)\n",
    "    autolabel(rects2)\n",
    "\n",
    "    fig.tight_layout()\n",
    "    \n",
    "    #plt.savefig(\"2bars.pdf\")\n",
    "\n",
    "    plt.show()"
   ]
  },
  {
   "cell_type": "code",
   "execution_count": 13,
   "metadata": {},
   "outputs": [],
   "source": [
    "def get_percentages(plot_df):\n",
    "    mar = (plot_df.loc[\"2020-03\"].values[0] - plot_df.loc[\"2019-03\"].values[0])/plot_df.loc[\"2019-03\"].values[0]\n",
    "    apr = (plot_df.loc[\"2020-04\"].values[0] - plot_df.loc[\"2019-04\"].values[0])/plot_df.loc[\"2019-04\"].values[0]\n",
    "    may = (plot_df.loc[\"2020-05\"].values[0] - plot_df.loc[\"2019-05\"].values[0])/plot_df.loc[\"2019-05\"].values[0]\n",
    "    return(mar,apr,may)"
   ]
  },
  {
   "cell_type": "code",
   "execution_count": 14,
   "metadata": {},
   "outputs": [],
   "source": [
    "def get_total_percentage(plot_df):\n",
    "    \n",
    "    a = plot_df.loc[\"2020-03\"].values[0] + plot_df.loc[\"2020-04\"].values[0] + plot_df.loc[\"2020-05\"].values[0]\n",
    "    b = plot_df.loc[\"2019-03\"].values[0] + plot_df.loc[\"2019-04\"].values[0] + plot_df.loc[\"2019-05\"].values[0]\n",
    "\n",
    "    return((a-b)/b)"
   ]
  },
  {
   "cell_type": "code",
   "execution_count": 15,
   "metadata": {},
   "outputs": [],
   "source": [
    "#Hotfix, inserts 0 if no posts are available \n",
    "def get_total_percentage2(user_grouped_df):\n",
    "    try:\n",
    "        a = user_grouped_df.loc[\"2019-03\"].values[0]\n",
    "    except:\n",
    "        a = 0\n",
    "        \n",
    "    try:\n",
    "        b = user_grouped_df.loc[\"2019-04\"].values[0]\n",
    "    except:\n",
    "        b = 0\n",
    "        \n",
    "    try:\n",
    "        c = user_grouped_df.loc[\"2019-05\"].values[0]\n",
    "    except:\n",
    "        c = 0\n",
    "        \n",
    "    try:\n",
    "        d = user_grouped_df.loc[\"2020-03\"].values[0]\n",
    "    except:\n",
    "        d = 0\n",
    "        \n",
    "    try:\n",
    "        e = user_grouped_df.loc[\"2020-04\"].values[0]\n",
    "    except:\n",
    "        e = 0\n",
    "        \n",
    "    try:\n",
    "        f = user_grouped_df.loc[\"2020-05\"].values[0]\n",
    "    except:\n",
    "        f = 0\n",
    "        \n",
    "        \n",
    "    total_3month_19 = a + b + c\n",
    "    total_3month_20 = d + e + f\n",
    "\n",
    "    month_sample = total_3month_19 + total_3month_20\n",
    "    \n",
    "    months_difference = -999\n",
    "    \n",
    "    if not(total_3month_20 == 0 or total_3month_19 == 0): \n",
    "        months_difference = (total_3month_20 - total_3month_19)/total_3month_19\n",
    "    return(months_difference,month_sample)"
   ]
  },
  {
   "cell_type": "code",
   "execution_count": 16,
   "metadata": {
    "scrolled": false
   },
   "outputs": [],
   "source": [
    "def plot_bar_chart(plot_df):\n",
    "    x = plot_df.index\n",
    "    energy = plot_df[0]\n",
    "\n",
    "    x_pos = [i for i, _ in enumerate(x)]\n",
    "\n",
    "    plt.figure(figsize=(17,4))\n",
    "    plt.bar(x_pos, energy, color = \"grey\")\n",
    "    plt.xlabel(\"Month\")\n",
    "    plt.ylabel(\"Posts\")\n",
    "\n",
    "    plt.xticks(x_pos, x,rotation=90)\n",
    "\n",
    "    axes = plt.gca()\n",
    "\n",
    "    #Limits of Y axis\n",
    "    axes.set_ylim([1000,1600])\n",
    "    #plt.savefig(\"bars.pdf\",bbox_inches='tight')\n",
    "    plt.show()"
   ]
  },
  {
   "cell_type": "markdown",
   "metadata": {},
   "source": [
    "# 1) Theory: Total post volume decreased after CV-19 lockdown?"
   ]
  },
  {
   "cell_type": "code",
   "execution_count": 17,
   "metadata": {},
   "outputs": [
    {
     "data": {
      "image/png": "[encoded data removed]",
      "text/plain": [
       "<Figure size 1224x288 with 1 Axes>"
      ]
     },
     "metadata": {
      "needs_background": "light"
     },
     "output_type": "display_data"
    }
   ],
   "source": [
    "plot_bar_chart(plot_df)"
   ]
  },
  {
   "cell_type": "code",
   "execution_count": 18,
   "metadata": {},
   "outputs": [
    {
     "data": {
      "text/plain": [
       "-0.11130434782608696"
      ]
     },
     "execution_count": 18,
     "metadata": {},
     "output_type": "execute_result"
    }
   ],
   "source": [
    "get_total_percentage(plot_df)"
   ]
  },
  {
   "cell_type": "code",
   "execution_count": 19,
   "metadata": {},
   "outputs": [
    {
     "data": {
      "image/png": "[encoded data removed]",
      "text/plain": [
       "<Figure size 576x360 with 1 Axes>"
      ]
     },
     "metadata": {
      "needs_background": "light"
     },
     "output_type": "display_data"
    }
   ],
   "source": [
    "plot_two_bars(plot_df)"
   ]
  },
  {
   "cell_type": "code",
   "execution_count": 20,
   "metadata": {},
   "outputs": [
    {
     "data": {
      "text/plain": [
       "(-0.07237715803452856, -0.16981132075471697, -0.0884308510638298)"
      ]
     },
     "execution_count": 20,
     "metadata": {},
     "output_type": "execute_result"
    }
   ],
   "source": [
    "get_percentages(plot_df)"
   ]
  },
  {
   "cell_type": "markdown",
   "metadata": {},
   "source": [
    "### Let's investigate the distribution of the decrease"
   ]
  },
  {
   "cell_type": "code",
   "execution_count": 31,
   "metadata": {},
   "outputs": [],
   "source": [
    "del plot_df"
   ]
  },
  {
   "cell_type": "code",
   "execution_count": 32,
   "metadata": {},
   "outputs": [],
   "source": [
    "plot_df = pd.DataFrame()"
   ]
  },
  {
   "cell_type": "code",
   "execution_count": 33,
   "metadata": {},
   "outputs": [],
   "source": [
    "for user1 in df_posts.user.unique():\n",
    "    user_df = df_posts[df_posts.user == user1]\n",
    "    user_grouped_df = pd.DataFrame(user_df.groupby([\"date_year_month2\"]).size())\n",
    "        \n",
    "    try:\n",
    "        a = user_grouped_df.loc[\"2019-03\"].values[0]\n",
    "    except:\n",
    "        a = 0\n",
    "        \n",
    "    try:\n",
    "        b = user_grouped_df.loc[\"2019-04\"].values[0]\n",
    "    except:\n",
    "        b = 0\n",
    "        \n",
    "    try:\n",
    "        c = user_grouped_df.loc[\"2019-05\"].values[0]\n",
    "    except:\n",
    "        c = 0\n",
    "        \n",
    "    try:\n",
    "        d = user_grouped_df.loc[\"2020-03\"].values[0]\n",
    "    except:\n",
    "        d = 0\n",
    "        \n",
    "    try:\n",
    "        e = user_grouped_df.loc[\"2020-04\"].values[0]\n",
    "    except:\n",
    "        e = 0\n",
    "        \n",
    "    try:\n",
    "        f = user_grouped_df.loc[\"2020-05\"].values[0]\n",
    "    except:\n",
    "        f = 0\n",
    "        \n",
    "        \n",
    "    total_3month_19 = a + b + c\n",
    "    total_3month_20 = d + e + f\n",
    "\n",
    "    month_sample = total_3month_19 + total_3month_20\n",
    "    \n",
    "    months_difference = -999\n",
    "    \n",
    "    if not(total_3month_20 == 0 or total_3month_19 == 0): \n",
    "        months_difference = (total_3month_20 - total_3month_19)/total_3month_19\n",
    "    \n",
    "    plot_df = plot_df.append({\"user\": user1,\"months_difference\":months_difference, \"month_sample\" : month_sample},ignore_index=True)"
   ]
  },
  {
   "cell_type": "code",
   "execution_count": 34,
   "metadata": {},
   "outputs": [],
   "source": [
    "#Exclude outliers\n",
    "plot_df = plot_df[plot_df.month_sample >= 30]\n",
    "plot_df = plot_df[plot_df.months_difference != -999]\n",
    "plot_df = plot_df[plot_df.months_difference < 1.5]"
   ]
  },
  {
   "cell_type": "code",
   "execution_count": 35,
   "metadata": {},
   "outputs": [],
   "source": [
    "#Scaling\n",
    "plot_df[\"months_difference\"] = plot_df.months_difference.apply(lambda x: x*100)"
   ]
  },
  {
   "cell_type": "code",
   "execution_count": 36,
   "metadata": {},
   "outputs": [
    {
     "data": {
      "text/html": [
       "<div>\n",
       "<style scoped>\n",
       "    .dataframe tbody tr th:only-of-type {\n",
       "        vertical-align: middle;\n",
       "    }\n",
       "\n",
       "    .dataframe tbody tr th {\n",
       "        vertical-align: top;\n",
       "    }\n",
       "\n",
       "    .dataframe thead th {\n",
       "        text-align: right;\n",
       "    }\n",
       "</style>\n",
       "<table border=\"1\" class=\"dataframe\">\n",
       "  <thead>\n",
       "    <tr style=\"text-align: right;\">\n",
       "      <th></th>\n",
       "      <th>month_sample</th>\n",
       "      <th>months_difference</th>\n",
       "      <th>user</th>\n",
       "    </tr>\n",
       "  </thead>\n",
       "  <tbody>\n",
       "    <tr>\n",
       "      <th>0</th>\n",
       "      <td>127.0</td>\n",
       "      <td>-13.235294</td>\n",
       "      <td>lisaandlena</td>\n",
       "    </tr>\n",
       "    <tr>\n",
       "      <th>1</th>\n",
       "      <td>95.0</td>\n",
       "      <td>37.500000</td>\n",
       "      <td>dagibee</td>\n",
       "    </tr>\n",
       "    <tr>\n",
       "      <th>2</th>\n",
       "      <td>137.0</td>\n",
       "      <td>36.206897</td>\n",
       "      <td>pamela_rf</td>\n",
       "    </tr>\n",
       "    <tr>\n",
       "      <th>5</th>\n",
       "      <td>31.0</td>\n",
       "      <td>-27.777778</td>\n",
       "      <td>paola</td>\n",
       "    </tr>\n",
       "    <tr>\n",
       "      <th>6</th>\n",
       "      <td>111.0</td>\n",
       "      <td>-26.562500</td>\n",
       "      <td>stefaniegiesinger</td>\n",
       "    </tr>\n",
       "    <tr>\n",
       "      <th>7</th>\n",
       "      <td>81.0</td>\n",
       "      <td>-47.169811</td>\n",
       "      <td>melinasophie</td>\n",
       "    </tr>\n",
       "    <tr>\n",
       "      <th>8</th>\n",
       "      <td>132.0</td>\n",
       "      <td>-68.000000</td>\n",
       "      <td>lenameyerlandrut</td>\n",
       "    </tr>\n",
       "    <tr>\n",
       "      <th>9</th>\n",
       "      <td>32.0</td>\n",
       "      <td>90.909091</td>\n",
       "      <td>marcusbutler</td>\n",
       "    </tr>\n",
       "    <tr>\n",
       "      <th>11</th>\n",
       "      <td>44.0</td>\n",
       "      <td>9.523810</td>\n",
       "      <td>juliabeautx</td>\n",
       "    </tr>\n",
       "    <tr>\n",
       "      <th>12</th>\n",
       "      <td>138.0</td>\n",
       "      <td>-51.612903</td>\n",
       "      <td>lenagercke</td>\n",
       "    </tr>\n",
       "    <tr>\n",
       "      <th>13</th>\n",
       "      <td>36.0</td>\n",
       "      <td>40.000000</td>\n",
       "      <td>felixladen</td>\n",
       "    </tr>\n",
       "    <tr>\n",
       "      <th>14</th>\n",
       "      <td>173.0</td>\n",
       "      <td>-27.000000</td>\n",
       "      <td>sarah.harrison.official</td>\n",
       "    </tr>\n",
       "    <tr>\n",
       "      <th>15</th>\n",
       "      <td>353.0</td>\n",
       "      <td>7.647059</td>\n",
       "      <td>carodaur</td>\n",
       "    </tr>\n",
       "    <tr>\n",
       "      <th>16</th>\n",
       "      <td>133.0</td>\n",
       "      <td>-27.272727</td>\n",
       "      <td>xlaeta</td>\n",
       "    </tr>\n",
       "    <tr>\n",
       "      <th>17</th>\n",
       "      <td>30.0</td>\n",
       "      <td>-57.142857</td>\n",
       "      <td>simondesue</td>\n",
       "    </tr>\n",
       "    <tr>\n",
       "      <th>18</th>\n",
       "      <td>73.0</td>\n",
       "      <td>-17.500000</td>\n",
       "      <td>magic_fox</td>\n",
       "    </tr>\n",
       "    <tr>\n",
       "      <th>20</th>\n",
       "      <td>107.0</td>\n",
       "      <td>-1.851852</td>\n",
       "      <td>mrsbella</td>\n",
       "    </tr>\n",
       "    <tr>\n",
       "      <th>22</th>\n",
       "      <td>69.0</td>\n",
       "      <td>-62.000000</td>\n",
       "      <td>inscopenico</td>\n",
       "    </tr>\n",
       "    <tr>\n",
       "      <th>23</th>\n",
       "      <td>74.0</td>\n",
       "      <td>46.666667</td>\n",
       "      <td>lorena</td>\n",
       "    </tr>\n",
       "    <tr>\n",
       "      <th>26</th>\n",
       "      <td>182.0</td>\n",
       "      <td>-4.301075</td>\n",
       "      <td>annamariadamm</td>\n",
       "    </tr>\n",
       "    <tr>\n",
       "      <th>27</th>\n",
       "      <td>114.0</td>\n",
       "      <td>19.230769</td>\n",
       "      <td>heikolochmann</td>\n",
       "    </tr>\n",
       "    <tr>\n",
       "      <th>28</th>\n",
       "      <td>55.0</td>\n",
       "      <td>29.166667</td>\n",
       "      <td>romanlochmann</td>\n",
       "    </tr>\n",
       "    <tr>\n",
       "      <th>29</th>\n",
       "      <td>74.0</td>\n",
       "      <td>-60.377358</td>\n",
       "      <td>caroeinhoff</td>\n",
       "    </tr>\n",
       "    <tr>\n",
       "      <th>30</th>\n",
       "      <td>89.0</td>\n",
       "      <td>-49.152542</td>\n",
       "      <td>marenwolf</td>\n",
       "    </tr>\n",
       "    <tr>\n",
       "      <th>31</th>\n",
       "      <td>303.0</td>\n",
       "      <td>-35.326087</td>\n",
       "      <td>xeniaadonts</td>\n",
       "    </tr>\n",
       "    <tr>\n",
       "      <th>32</th>\n",
       "      <td>41.0</td>\n",
       "      <td>-21.739130</td>\n",
       "      <td>sarellax3</td>\n",
       "    </tr>\n",
       "    <tr>\n",
       "      <th>33</th>\n",
       "      <td>51.0</td>\n",
       "      <td>-45.454545</td>\n",
       "      <td>samislimani</td>\n",
       "    </tr>\n",
       "    <tr>\n",
       "      <th>34</th>\n",
       "      <td>57.0</td>\n",
       "      <td>-53.846154</td>\n",
       "      <td>joyceilg</td>\n",
       "    </tr>\n",
       "    <tr>\n",
       "      <th>35</th>\n",
       "      <td>122.0</td>\n",
       "      <td>-28.169014</td>\n",
       "      <td>ischtarisik</td>\n",
       "    </tr>\n",
       "    <tr>\n",
       "      <th>37</th>\n",
       "      <td>195.0</td>\n",
       "      <td>-10.679612</td>\n",
       "      <td>leoobalys</td>\n",
       "    </tr>\n",
       "    <tr>\n",
       "      <th>...</th>\n",
       "      <td>...</td>\n",
       "      <td>...</td>\n",
       "      <td>...</td>\n",
       "    </tr>\n",
       "    <tr>\n",
       "      <th>45</th>\n",
       "      <td>444.0</td>\n",
       "      <td>-40.860215</td>\n",
       "      <td>riccardosimonetti</td>\n",
       "    </tr>\n",
       "    <tr>\n",
       "      <th>46</th>\n",
       "      <td>78.0</td>\n",
       "      <td>-22.727273</td>\n",
       "      <td>california.89</td>\n",
       "    </tr>\n",
       "    <tr>\n",
       "      <th>47</th>\n",
       "      <td>171.0</td>\n",
       "      <td>-20.000000</td>\n",
       "      <td>andrehellmundt</td>\n",
       "    </tr>\n",
       "    <tr>\n",
       "      <th>48</th>\n",
       "      <td>111.0</td>\n",
       "      <td>-53.947368</td>\n",
       "      <td>jonnyfoe</td>\n",
       "    </tr>\n",
       "    <tr>\n",
       "      <th>49</th>\n",
       "      <td>83.0</td>\n",
       "      <td>18.421053</td>\n",
       "      <td>philipp_stehler</td>\n",
       "    </tr>\n",
       "    <tr>\n",
       "      <th>50</th>\n",
       "      <td>82.0</td>\n",
       "      <td>-42.307692</td>\n",
       "      <td>tobiaswolf</td>\n",
       "    </tr>\n",
       "    <tr>\n",
       "      <th>51</th>\n",
       "      <td>195.0</td>\n",
       "      <td>3.125000</td>\n",
       "      <td>justusf_hansen</td>\n",
       "    </tr>\n",
       "    <tr>\n",
       "      <th>52</th>\n",
       "      <td>112.0</td>\n",
       "      <td>-22.222222</td>\n",
       "      <td>marcelfloruss</td>\n",
       "    </tr>\n",
       "    <tr>\n",
       "      <th>53</th>\n",
       "      <td>97.0</td>\n",
       "      <td>-2.040816</td>\n",
       "      <td>sandro</td>\n",
       "    </tr>\n",
       "    <tr>\n",
       "      <th>54</th>\n",
       "      <td>114.0</td>\n",
       "      <td>7.272727</td>\n",
       "      <td>kosta_williams</td>\n",
       "    </tr>\n",
       "    <tr>\n",
       "      <th>55</th>\n",
       "      <td>161.0</td>\n",
       "      <td>-6.024096</td>\n",
       "      <td>isek___</td>\n",
       "    </tr>\n",
       "    <tr>\n",
       "      <th>56</th>\n",
       "      <td>212.0</td>\n",
       "      <td>-18.803419</td>\n",
       "      <td>ibdansch</td>\n",
       "    </tr>\n",
       "    <tr>\n",
       "      <th>57</th>\n",
       "      <td>67.0</td>\n",
       "      <td>48.148148</td>\n",
       "      <td>andi.woehle</td>\n",
       "    </tr>\n",
       "    <tr>\n",
       "      <th>58</th>\n",
       "      <td>137.0</td>\n",
       "      <td>68.627451</td>\n",
       "      <td>klaus_grillt</td>\n",
       "    </tr>\n",
       "    <tr>\n",
       "      <th>59</th>\n",
       "      <td>105.0</td>\n",
       "      <td>-45.588235</td>\n",
       "      <td>nickjann</td>\n",
       "    </tr>\n",
       "    <tr>\n",
       "      <th>60</th>\n",
       "      <td>145.0</td>\n",
       "      <td>-33.333333</td>\n",
       "      <td>lukaszgler</td>\n",
       "    </tr>\n",
       "    <tr>\n",
       "      <th>61</th>\n",
       "      <td>102.0</td>\n",
       "      <td>-56.338028</td>\n",
       "      <td>wowa_valentino</td>\n",
       "    </tr>\n",
       "    <tr>\n",
       "      <th>63</th>\n",
       "      <td>79.0</td>\n",
       "      <td>-53.703704</td>\n",
       "      <td>maxisanchezz</td>\n",
       "    </tr>\n",
       "    <tr>\n",
       "      <th>64</th>\n",
       "      <td>71.0</td>\n",
       "      <td>-58.000000</td>\n",
       "      <td>ayla.eulalia</td>\n",
       "    </tr>\n",
       "    <tr>\n",
       "      <th>65</th>\n",
       "      <td>214.0</td>\n",
       "      <td>-24.590164</td>\n",
       "      <td>dianazurloewen</td>\n",
       "    </tr>\n",
       "    <tr>\n",
       "      <th>66</th>\n",
       "      <td>144.0</td>\n",
       "      <td>-20.000000</td>\n",
       "      <td>dariadaria</td>\n",
       "    </tr>\n",
       "    <tr>\n",
       "      <th>67</th>\n",
       "      <td>165.0</td>\n",
       "      <td>6.250000</td>\n",
       "      <td>jesswayoflife</td>\n",
       "    </tr>\n",
       "    <tr>\n",
       "      <th>69</th>\n",
       "      <td>219.0</td>\n",
       "      <td>-12.820513</td>\n",
       "      <td>lea</td>\n",
       "    </tr>\n",
       "    <tr>\n",
       "      <th>71</th>\n",
       "      <td>170.0</td>\n",
       "      <td>12.500000</td>\n",
       "      <td>jileileen</td>\n",
       "    </tr>\n",
       "    <tr>\n",
       "      <th>72</th>\n",
       "      <td>153.0</td>\n",
       "      <td>18.571429</td>\n",
       "      <td>lizkaeber</td>\n",
       "    </tr>\n",
       "    <tr>\n",
       "      <th>73</th>\n",
       "      <td>156.0</td>\n",
       "      <td>2.597403</td>\n",
       "      <td>hannah.hofinger</td>\n",
       "    </tr>\n",
       "    <tr>\n",
       "      <th>74</th>\n",
       "      <td>87.0</td>\n",
       "      <td>2.325581</td>\n",
       "      <td>lolaweippert</td>\n",
       "    </tr>\n",
       "    <tr>\n",
       "      <th>75</th>\n",
       "      <td>244.0</td>\n",
       "      <td>51.546392</td>\n",
       "      <td>frankly.alina</td>\n",
       "    </tr>\n",
       "    <tr>\n",
       "      <th>76</th>\n",
       "      <td>83.0</td>\n",
       "      <td>12.820513</td>\n",
       "      <td>putsch.i</td>\n",
       "    </tr>\n",
       "    <tr>\n",
       "      <th>77</th>\n",
       "      <td>132.0</td>\n",
       "      <td>31.578947</td>\n",
       "      <td>laratolksdorf</td>\n",
       "    </tr>\n",
       "  </tbody>\n",
       "</table>\n",
       "<p>66 rows × 3 columns</p>\n",
       "</div>"
      ],
      "text/plain": [
       "    month_sample  months_difference                     user\n",
       "0          127.0         -13.235294              lisaandlena\n",
       "1           95.0          37.500000                  dagibee\n",
       "2          137.0          36.206897                pamela_rf\n",
       "5           31.0         -27.777778                    paola\n",
       "6          111.0         -26.562500        stefaniegiesinger\n",
       "7           81.0         -47.169811             melinasophie\n",
       "8          132.0         -68.000000         lenameyerlandrut\n",
       "9           32.0          90.909091             marcusbutler\n",
       "11          44.0           9.523810              juliabeautx\n",
       "12         138.0         -51.612903               lenagercke\n",
       "13          36.0          40.000000               felixladen\n",
       "14         173.0         -27.000000  sarah.harrison.official\n",
       "15         353.0           7.647059                 carodaur\n",
       "16         133.0         -27.272727                   xlaeta\n",
       "17          30.0         -57.142857               simondesue\n",
       "18          73.0         -17.500000                magic_fox\n",
       "20         107.0          -1.851852                 mrsbella\n",
       "22          69.0         -62.000000              inscopenico\n",
       "23          74.0          46.666667                   lorena\n",
       "26         182.0          -4.301075            annamariadamm\n",
       "27         114.0          19.230769            heikolochmann\n",
       "28          55.0          29.166667            romanlochmann\n",
       "29          74.0         -60.377358              caroeinhoff\n",
       "30          89.0         -49.152542                marenwolf\n",
       "31         303.0         -35.326087              xeniaadonts\n",
       "32          41.0         -21.739130                sarellax3\n",
       "33          51.0         -45.454545              samislimani\n",
       "34          57.0         -53.846154                 joyceilg\n",
       "35         122.0         -28.169014              ischtarisik\n",
       "37         195.0         -10.679612                leoobalys\n",
       "..           ...                ...                      ...\n",
       "45         444.0         -40.860215        riccardosimonetti\n",
       "46          78.0         -22.727273            california.89\n",
       "47         171.0         -20.000000           andrehellmundt\n",
       "48         111.0         -53.947368                 jonnyfoe\n",
       "49          83.0          18.421053          philipp_stehler\n",
       "50          82.0         -42.307692               tobiaswolf\n",
       "51         195.0           3.125000           justusf_hansen\n",
       "52         112.0         -22.222222            marcelfloruss\n",
       "53          97.0          -2.040816                   sandro\n",
       "54         114.0           7.272727           kosta_williams\n",
       "55         161.0          -6.024096                  isek___\n",
       "56         212.0         -18.803419                 ibdansch\n",
       "57          67.0          48.148148              andi.woehle\n",
       "58         137.0          68.627451             klaus_grillt\n",
       "59         105.0         -45.588235                 nickjann\n",
       "60         145.0         -33.333333               lukaszgler\n",
       "61         102.0         -56.338028           wowa_valentino\n",
       "63          79.0         -53.703704             maxisanchezz\n",
       "64          71.0         -58.000000             ayla.eulalia\n",
       "65         214.0         -24.590164           dianazurloewen\n",
       "66         144.0         -20.000000               dariadaria\n",
       "67         165.0           6.250000            jesswayoflife\n",
       "69         219.0         -12.820513                      lea\n",
       "71         170.0          12.500000                jileileen\n",
       "72         153.0          18.571429                lizkaeber\n",
       "73         156.0           2.597403          hannah.hofinger\n",
       "74          87.0           2.325581             lolaweippert\n",
       "75         244.0          51.546392            frankly.alina\n",
       "76          83.0          12.820513                 putsch.i\n",
       "77         132.0          31.578947            laratolksdorf\n",
       "\n",
       "[66 rows x 3 columns]"
      ]
     },
     "execution_count": 36,
     "metadata": {},
     "output_type": "execute_result"
    }
   ],
   "source": [
    "plot_df"
   ]
  },
  {
   "cell_type": "code",
   "execution_count": 37,
   "metadata": {},
   "outputs": [
    {
     "data": {
      "image/png": "[encoded data removed]",
      "text/plain": [
       "<Figure size 576x360 with 1 Axes>"
      ]
     },
     "metadata": {
      "needs_background": "light"
     },
     "output_type": "display_data"
    }
   ],
   "source": [
    "clean_bins = [-100,-75,-50,-25,0,25,50,75,100]\n",
    "\n",
    "for feature in [\"months_difference\"]:\n",
    "\n",
    "    n, bins, patches = plt.hist(x=plot_df[feature], bins=clean_bins, color='#0504aa',\n",
    "                                alpha=0.7, rwidth=0.85)\n",
    "    #plt.title(feature)\n",
    "    plt.xlabel(\"Percentage decrease / increase\")\n",
    "    plt.ylabel(\"Users\")\n",
    "    plt.grid(axis='y', alpha=0.75)\n",
    "    maxfreq = n.max()\n",
    "    fig = plt.gcf()\n",
    "    fig.set_size_inches(8, 5)\n",
    "    #plt.savefig(\"distusers.pdf\")\n",
    "    plt.show()"
   ]
  },
  {
   "cell_type": "markdown",
   "metadata": {},
   "source": [
    "### What about travel influencers? Did they less often?"
   ]
  },
  {
   "cell_type": "code",
   "execution_count": 39,
   "metadata": {},
   "outputs": [],
   "source": [
    "plot_df = pd.DataFrame(df_posts[df_posts.url.isin(df_info[df_info.is_travel == True].url.values)].groupby([\"date_year_month2\"]).size())"
   ]
  },
  {
   "cell_type": "code",
   "execution_count": 40,
   "metadata": {},
   "outputs": [
    {
     "data": {
      "image/png": "[encoded data removed]",
      "text/plain": [
       "<Figure size 576x360 with 1 Axes>"
      ]
     },
     "metadata": {
      "needs_background": "light"
     },
     "output_type": "display_data"
    }
   ],
   "source": [
    "plot_two_bars(plot_df)"
   ]
  },
  {
   "cell_type": "code",
   "execution_count": 41,
   "metadata": {},
   "outputs": [
    {
     "data": {
      "text/plain": [
       "(-0.10798816568047337, -0.033182503770739065, -0.04484304932735426)"
      ]
     },
     "execution_count": 41,
     "metadata": {},
     "output_type": "execute_result"
    }
   ],
   "source": [
    "get_percentages(plot_df)"
   ]
  },
  {
   "cell_type": "code",
   "execution_count": 42,
   "metadata": {},
   "outputs": [
    {
     "data": {
      "text/plain": [
       "-0.062250996015936255"
      ]
     },
     "execution_count": 42,
     "metadata": {},
     "output_type": "execute_result"
    }
   ],
   "source": [
    "get_total_percentage(plot_df)"
   ]
  },
  {
   "cell_type": "markdown",
   "metadata": {},
   "source": [
    "### So travel influencers didn't really stop posting... What about the complementary group?"
   ]
  },
  {
   "cell_type": "code",
   "execution_count": 43,
   "metadata": {},
   "outputs": [
    {
     "data": {
      "image/png": "[encoded data removed]",
      "text/plain": [
       "<Figure size 576x360 with 1 Axes>"
      ]
     },
     "metadata": {
      "needs_background": "light"
     },
     "output_type": "display_data"
    }
   ],
   "source": [
    "plot_df = pd.DataFrame(df_posts[df_posts.url.isin(df_info[df_info.is_travel == False].url.values)].groupby([\"date_year_month2\"]).size())\n",
    "plot_two_bars(plot_df)"
   ]
  },
  {
   "cell_type": "code",
   "execution_count": 44,
   "metadata": {},
   "outputs": [
    {
     "data": {
      "text/plain": [
       "(-0.043373493975903614, -0.267529665587918, -0.12335329341317365)"
      ]
     },
     "execution_count": 44,
     "metadata": {},
     "output_type": "execute_result"
    }
   ],
   "source": [
    "get_percentages(plot_df)"
   ]
  },
  {
   "cell_type": "code",
   "execution_count": 45,
   "metadata": {},
   "outputs": [
    {
     "data": {
      "text/plain": [
       "-0.14930555555555555"
      ]
     },
     "execution_count": 45,
     "metadata": {},
     "output_type": "execute_result"
    }
   ],
   "source": [
    "get_total_percentage(plot_df)"
   ]
  },
  {
   "cell_type": "code",
   "execution_count": 47,
   "metadata": {
    "scrolled": true
   },
   "outputs": [],
   "source": [
    "#Receive list of influencers that are categorized as travel but not fashion\n",
    "#np.setdiff1d(df_info[df_info.is_travel == True].url.values,df_info[df_info.is_fashion == True].url.values)"
   ]
  },
  {
   "cell_type": "markdown",
   "metadata": {},
   "source": [
    "# 2) Theory: Behavior adoption (topic shift) prevents post volume decrease"
   ]
  },
  {
   "cell_type": "markdown",
   "metadata": {},
   "source": [
    "### Influencers without topic shift"
   ]
  },
  {
   "cell_type": "code",
   "execution_count": 48,
   "metadata": {},
   "outputs": [
    {
     "data": {
      "text/plain": [
       "-0.15584854631507775"
      ]
     },
     "execution_count": 48,
     "metadata": {},
     "output_type": "execute_result"
    }
   ],
   "source": [
    "plot_df = pd.DataFrame(df_posts[df_posts.url.isin(df_info[df_info.has_topic_shift == False].url.values)].groupby([\"date_year_month2\"]).size())\n",
    "#plot_two_bars(plot_df)\n",
    "get_total_percentage(plot_df)"
   ]
  },
  {
   "cell_type": "markdown",
   "metadata": {},
   "source": [
    "### Influencers with topic shift"
   ]
  },
  {
   "cell_type": "code",
   "execution_count": 49,
   "metadata": {},
   "outputs": [
    {
     "data": {
      "text/plain": [
       "-0.031059683313032885"
      ]
     },
     "execution_count": 49,
     "metadata": {},
     "output_type": "execute_result"
    }
   ],
   "source": [
    "plot_df = pd.DataFrame(df_posts[df_posts.url.isin(df_info[df_info.has_topic_shift == True].url.values)].groupby([\"date_year_month2\"]).size())\n",
    "get_total_percentage(plot_df)"
   ]
  },
  {
   "cell_type": "code",
   "execution_count": 50,
   "metadata": {},
   "outputs": [
    {
     "data": {
      "text/plain": [
       "0.3037974683544304"
      ]
     },
     "execution_count": 50,
     "metadata": {},
     "output_type": "execute_result"
    }
   ],
   "source": [
    "#Share of influencers with topic shift\n",
    "len(df_info[df_info.has_topic_shift == True])/len(df_info)"
   ]
  },
  {
   "cell_type": "code",
   "execution_count": 51,
   "metadata": {},
   "outputs": [
    {
     "data": {
      "text/plain": [
       "0.6896551724137931"
      ]
     },
     "execution_count": 51,
     "metadata": {},
     "output_type": "execute_result"
    }
   ],
   "source": [
    "len(np.intersect1d(df_info[df_info.is_travel == True].url.values,df_info[df_info.has_topic_shift == True].url.values))/len(df_info[df_info.is_travel == True])"
   ]
  },
  {
   "cell_type": "code",
   "execution_count": 52,
   "metadata": {},
   "outputs": [
    {
     "data": {
      "text/plain": [
       "0.08"
      ]
     },
     "execution_count": 52,
     "metadata": {},
     "output_type": "execute_result"
    }
   ],
   "source": [
    "len(np.intersect1d(df_info[df_info.is_travel == False].url.values,df_info[df_info.has_topic_shift == True].url.values))/len(df_info[df_info.is_travel == False])"
   ]
  },
  {
   "cell_type": "code",
   "execution_count": 53,
   "metadata": {},
   "outputs": [
    {
     "data": {
      "text/plain": [
       "29"
      ]
     },
     "execution_count": 53,
     "metadata": {},
     "output_type": "execute_result"
    }
   ],
   "source": [
    "len(df_info[df_info.is_travel == True])"
   ]
  },
  {
   "cell_type": "markdown",
   "metadata": {},
   "source": [
    "# 3) Inspect a particular influencer"
   ]
  },
  {
   "cell_type": "code",
   "execution_count": 54,
   "metadata": {},
   "outputs": [
    {
     "data": {
      "text/plain": [
       "(0.3181818181818182, 0.35294117647058826, 0.42105263157894735)"
      ]
     },
     "execution_count": 54,
     "metadata": {},
     "output_type": "execute_result"
    }
   ],
   "source": [
    "plot_df = pd.DataFrame(df_posts[df_posts.url.isin([\"https://www.instagram.com/pamela_rf\"])].groupby([\"date_year_month2\"]).size())\n",
    "get_percentages(plot_df)"
   ]
  },
  {
   "cell_type": "code",
   "execution_count": 55,
   "metadata": {
    "scrolled": true
   },
   "outputs": [
    {
     "data": {
      "image/png": "[encoded data removed]",
      "text/plain": [
       "<Figure size 576x360 with 1 Axes>"
      ]
     },
     "metadata": {
      "needs_background": "light"
     },
     "output_type": "display_data"
    }
   ],
   "source": [
    "plot_two_bars(plot_df)"
   ]
  },
  {
   "cell_type": "markdown",
   "metadata": {},
   "source": [
    "### Likes per post"
   ]
  },
  {
   "cell_type": "code",
   "execution_count": 57,
   "metadata": {
    "scrolled": true
   },
   "outputs": [
    {
     "data": {
      "text/plain": [
       "[<matplotlib.lines.Line2D at 0x12b295553c8>]"
      ]
     },
     "execution_count": 57,
     "metadata": {},
     "output_type": "execute_result"
    },
    {
     "data": {
      "image/png": "[encoded data removed]",
      "text/plain": [
       "<Figure size 576x216 with 1 Axes>"
      ]
     },
     "metadata": {
      "needs_background": "light"
     },
     "output_type": "display_data"
    }
   ],
   "source": [
    "likes = list(filter(lambda x : x != 'Error', df_posts[df_posts.url.isin([\"https://www.instagram.com/pamela_rf\"])].likes.values))\n",
    "likes.reverse()\n",
    "likes = list(map(int, likes))\n",
    "likes = pd.DataFrame(likes)\n",
    "plt.figure(figsize=(8,3))\n",
    "plt.plot(likes.index,likes[0])"
   ]
  },
  {
   "cell_type": "markdown",
   "metadata": {},
   "source": [
    "# 4) How many influencers posted about CV-19 or BLM?"
   ]
  },
  {
   "cell_type": "code",
   "execution_count": 60,
   "metadata": {},
   "outputs": [
    {
     "data": {
      "text/plain": [
       "False    63\n",
       "True     16\n",
       "Name: has_cv_19_post, dtype: int64"
      ]
     },
     "execution_count": 60,
     "metadata": {},
     "output_type": "execute_result"
    }
   ],
   "source": [
    "df_info.has_cv_19_post.value_counts()"
   ]
  },
  {
   "cell_type": "code",
   "execution_count": 61,
   "metadata": {},
   "outputs": [
    {
     "data": {
      "text/plain": [
       "True     58\n",
       "False    21\n",
       "Name: has_blm_post, dtype: int64"
      ]
     },
     "execution_count": 61,
     "metadata": {},
     "output_type": "execute_result"
    }
   ],
   "source": [
    "df_info.has_blm_post.value_counts()"
   ]
  },
  {
   "cell_type": "markdown",
   "metadata": {},
   "source": [
    "# 5) Theory: Ad volume decreased because of CV-19 lockdown"
   ]
  },
  {
   "cell_type": "code",
   "execution_count": 62,
   "metadata": {},
   "outputs": [],
   "source": [
    "ad_keywords = [\"Werbung\",\"werbung\",\"WERBUNG\",\"Anzeige\",\"anzeige\",\"ANZEIGE\",\" #ad\", \"advertisement\", \"sponsored\", \"gesponsort\", \"promotion\", \"Promotion\"]"
   ]
  },
  {
   "cell_type": "code",
   "execution_count": 63,
   "metadata": {
    "lines_to_next_cell": 2
   },
   "outputs": [
    {
     "data": {
      "text/plain": [
       "True"
      ]
     },
     "execution_count": 63,
     "metadata": {},
     "output_type": "execute_result"
    }
   ],
   "source": [
    "#Test\n",
    "any(word in 'some one long two phrase promotionthree' for word in ad_keywords)"
   ]
  },
  {
   "cell_type": "code",
   "execution_count": 64,
   "metadata": {},
   "outputs": [],
   "source": [
    "df_posts[\"is_ad\"] = df_posts.text.apply(lambda x: any(word in x for word in ad_keywords))"
   ]
  },
  {
   "cell_type": "code",
   "execution_count": 65,
   "metadata": {},
   "outputs": [],
   "source": [
    "df_posts = df_posts[df_posts.date_year_month2 > \"2019-02\"]"
   ]
  },
  {
   "cell_type": "code",
   "execution_count": 66,
   "metadata": {},
   "outputs": [],
   "source": [
    "df_ads = pd.DataFrame(df_posts.groupby([\"date_year_month2\",\"is_ad\"]).size())"
   ]
  },
  {
   "cell_type": "code",
   "execution_count": 67,
   "metadata": {},
   "outputs": [],
   "source": [
    "df_ads = df_ads.reset_index()"
   ]
  },
  {
   "cell_type": "code",
   "execution_count": 68,
   "metadata": {},
   "outputs": [
    {
     "data": {
      "text/html": [
       "<div>\n",
       "<style scoped>\n",
       "    .dataframe tbody tr th:only-of-type {\n",
       "        vertical-align: middle;\n",
       "    }\n",
       "\n",
       "    .dataframe tbody tr th {\n",
       "        vertical-align: top;\n",
       "    }\n",
       "\n",
       "    .dataframe thead th {\n",
       "        text-align: right;\n",
       "    }\n",
       "</style>\n",
       "<table border=\"1\" class=\"dataframe\">\n",
       "  <thead>\n",
       "    <tr style=\"text-align: right;\">\n",
       "      <th></th>\n",
       "      <th>date_year_month2</th>\n",
       "      <th>is_ad</th>\n",
       "      <th>0</th>\n",
       "    </tr>\n",
       "  </thead>\n",
       "  <tbody>\n",
       "    <tr>\n",
       "      <th>0</th>\n",
       "      <td>2019-03</td>\n",
       "      <td>False</td>\n",
       "      <td>1036</td>\n",
       "    </tr>\n",
       "    <tr>\n",
       "      <th>1</th>\n",
       "      <td>2019-03</td>\n",
       "      <td>True</td>\n",
       "      <td>470</td>\n",
       "    </tr>\n",
       "    <tr>\n",
       "      <th>2</th>\n",
       "      <td>2019-04</td>\n",
       "      <td>False</td>\n",
       "      <td>1095</td>\n",
       "    </tr>\n",
       "    <tr>\n",
       "      <th>3</th>\n",
       "      <td>2019-04</td>\n",
       "      <td>True</td>\n",
       "      <td>495</td>\n",
       "    </tr>\n",
       "  </tbody>\n",
       "</table>\n",
       "</div>"
      ],
      "text/plain": [
       "  date_year_month2  is_ad     0\n",
       "0          2019-03  False  1036\n",
       "1          2019-03   True   470\n",
       "2          2019-04  False  1095\n",
       "3          2019-04   True   495"
      ]
     },
     "execution_count": 68,
     "metadata": {},
     "output_type": "execute_result"
    }
   ],
   "source": [
    "df_ads.head(4)"
   ]
  },
  {
   "cell_type": "code",
   "execution_count": 69,
   "metadata": {},
   "outputs": [
    {
     "data": {
      "text/plain": [
       "470"
      ]
     },
     "execution_count": 69,
     "metadata": {},
     "output_type": "execute_result"
    }
   ],
   "source": [
    "df_ads[df_ads.date_year_month2 == '2019-03'][df_ads[df_ads.date_year_month2 == '2019-03'].is_ad == True][0].values[0]"
   ]
  },
  {
   "cell_type": "code",
   "execution_count": 70,
   "metadata": {},
   "outputs": [
    {
     "data": {
      "text/plain": [
       "1506"
      ]
     },
     "execution_count": 70,
     "metadata": {},
     "output_type": "execute_result"
    }
   ],
   "source": [
    "df_ads.groupby(\"date_year_month2\")[0].sum()[\"2019-03\"]"
   ]
  },
  {
   "cell_type": "code",
   "execution_count": 71,
   "metadata": {},
   "outputs": [],
   "source": [
    "share_of_ads = []\n",
    "for month in df_ads.date_year_month2.unique():\n",
    "    share_of_ads.append(df_ads[df_ads.date_year_month2 == month][df_ads[df_ads.date_year_month2 == month].is_ad == True][0].values[0]/df_ads.groupby(\"date_year_month2\")[0].sum()[month])"
   ]
  },
  {
   "cell_type": "code",
   "execution_count": 72,
   "metadata": {},
   "outputs": [],
   "source": [
    "df_ads_aggregated = pd.DataFrame(df_posts.groupby([\"date_year_month2\"]).size())"
   ]
  },
  {
   "cell_type": "code",
   "execution_count": 73,
   "metadata": {},
   "outputs": [],
   "source": [
    "df_ads_aggregated[\"share_of_ads\"] = share_of_ads"
   ]
  },
  {
   "cell_type": "code",
   "execution_count": 74,
   "metadata": {},
   "outputs": [],
   "source": [
    "total_ads = []\n",
    "for month in df_ads.date_year_month2.unique():\n",
    "    total_ads.append(df_ads[df_ads.date_year_month2 == month][df_ads[df_ads.date_year_month2 == month].is_ad == True][0].values[0])"
   ]
  },
  {
   "cell_type": "code",
   "execution_count": 75,
   "metadata": {},
   "outputs": [],
   "source": [
    "df_ads_aggregated[\"total_ads\"] = total_ads"
   ]
  },
  {
   "cell_type": "code",
   "execution_count": 76,
   "metadata": {
    "scrolled": true
   },
   "outputs": [
    {
     "data": {
      "text/html": [
       "<div>\n",
       "<style scoped>\n",
       "    .dataframe tbody tr th:only-of-type {\n",
       "        vertical-align: middle;\n",
       "    }\n",
       "\n",
       "    .dataframe tbody tr th {\n",
       "        vertical-align: top;\n",
       "    }\n",
       "\n",
       "    .dataframe thead th {\n",
       "        text-align: right;\n",
       "    }\n",
       "</style>\n",
       "<table border=\"1\" class=\"dataframe\">\n",
       "  <thead>\n",
       "    <tr style=\"text-align: right;\">\n",
       "      <th></th>\n",
       "      <th>0</th>\n",
       "      <th>share_of_ads</th>\n",
       "      <th>total_ads</th>\n",
       "    </tr>\n",
       "    <tr>\n",
       "      <th>date_year_month2</th>\n",
       "      <th></th>\n",
       "      <th></th>\n",
       "      <th></th>\n",
       "    </tr>\n",
       "  </thead>\n",
       "  <tbody>\n",
       "    <tr>\n",
       "      <th>2019-03</th>\n",
       "      <td>1506</td>\n",
       "      <td>0.312085</td>\n",
       "      <td>470</td>\n",
       "    </tr>\n",
       "    <tr>\n",
       "      <th>2019-04</th>\n",
       "      <td>1590</td>\n",
       "      <td>0.311321</td>\n",
       "      <td>495</td>\n",
       "    </tr>\n",
       "    <tr>\n",
       "      <th>2019-05</th>\n",
       "      <td>1504</td>\n",
       "      <td>0.319814</td>\n",
       "      <td>481</td>\n",
       "    </tr>\n",
       "    <tr>\n",
       "      <th>2019-06</th>\n",
       "      <td>1511</td>\n",
       "      <td>0.342819</td>\n",
       "      <td>518</td>\n",
       "    </tr>\n",
       "    <tr>\n",
       "      <th>2019-07</th>\n",
       "      <td>1440</td>\n",
       "      <td>0.320833</td>\n",
       "      <td>462</td>\n",
       "    </tr>\n",
       "    <tr>\n",
       "      <th>2019-08</th>\n",
       "      <td>1372</td>\n",
       "      <td>0.274781</td>\n",
       "      <td>377</td>\n",
       "    </tr>\n",
       "    <tr>\n",
       "      <th>2019-09</th>\n",
       "      <td>1494</td>\n",
       "      <td>0.325301</td>\n",
       "      <td>486</td>\n",
       "    </tr>\n",
       "    <tr>\n",
       "      <th>2019-10</th>\n",
       "      <td>1408</td>\n",
       "      <td>0.332386</td>\n",
       "      <td>468</td>\n",
       "    </tr>\n",
       "    <tr>\n",
       "      <th>2019-11</th>\n",
       "      <td>1421</td>\n",
       "      <td>0.344828</td>\n",
       "      <td>490</td>\n",
       "    </tr>\n",
       "    <tr>\n",
       "      <th>2019-12</th>\n",
       "      <td>1518</td>\n",
       "      <td>0.378129</td>\n",
       "      <td>574</td>\n",
       "    </tr>\n",
       "    <tr>\n",
       "      <th>2020-01</th>\n",
       "      <td>1295</td>\n",
       "      <td>0.244788</td>\n",
       "      <td>317</td>\n",
       "    </tr>\n",
       "    <tr>\n",
       "      <th>2020-02</th>\n",
       "      <td>1326</td>\n",
       "      <td>0.284314</td>\n",
       "      <td>377</td>\n",
       "    </tr>\n",
       "    <tr>\n",
       "      <th>2020-03</th>\n",
       "      <td>1397</td>\n",
       "      <td>0.216178</td>\n",
       "      <td>302</td>\n",
       "    </tr>\n",
       "    <tr>\n",
       "      <th>2020-04</th>\n",
       "      <td>1320</td>\n",
       "      <td>0.195455</td>\n",
       "      <td>258</td>\n",
       "    </tr>\n",
       "    <tr>\n",
       "      <th>2020-05</th>\n",
       "      <td>1371</td>\n",
       "      <td>0.204960</td>\n",
       "      <td>281</td>\n",
       "    </tr>\n",
       "    <tr>\n",
       "      <th>2020-06</th>\n",
       "      <td>1249</td>\n",
       "      <td>0.236990</td>\n",
       "      <td>296</td>\n",
       "    </tr>\n",
       "  </tbody>\n",
       "</table>\n",
       "</div>"
      ],
      "text/plain": [
       "                     0  share_of_ads  total_ads\n",
       "date_year_month2                               \n",
       "2019-03           1506      0.312085        470\n",
       "2019-04           1590      0.311321        495\n",
       "2019-05           1504      0.319814        481\n",
       "2019-06           1511      0.342819        518\n",
       "2019-07           1440      0.320833        462\n",
       "2019-08           1372      0.274781        377\n",
       "2019-09           1494      0.325301        486\n",
       "2019-10           1408      0.332386        468\n",
       "2019-11           1421      0.344828        490\n",
       "2019-12           1518      0.378129        574\n",
       "2020-01           1295      0.244788        317\n",
       "2020-02           1326      0.284314        377\n",
       "2020-03           1397      0.216178        302\n",
       "2020-04           1320      0.195455        258\n",
       "2020-05           1371      0.204960        281\n",
       "2020-06           1249      0.236990        296"
      ]
     },
     "execution_count": 76,
     "metadata": {},
     "output_type": "execute_result"
    }
   ],
   "source": [
    "df_ads_aggregated"
   ]
  },
  {
   "cell_type": "markdown",
   "metadata": {},
   "source": [
    "### Proportion of ads of all posts"
   ]
  },
  {
   "cell_type": "code",
   "execution_count": 77,
   "metadata": {
    "scrolled": true
   },
   "outputs": [
    {
     "data": {
      "image/png": "[encoded data removed]",
      "text/plain": [
       "<Figure size 1080x504 with 1 Axes>"
      ]
     },
     "metadata": {
      "needs_background": "light"
     },
     "output_type": "display_data"
    }
   ],
   "source": [
    "x = df_ads_aggregated.index\n",
    "energy = df_ads_aggregated.share_of_ads\n",
    "\n",
    "x_pos = [i for i, _ in enumerate(x)]\n",
    "\n",
    "plt.figure(figsize=(15,7))\n",
    "plt.bar(x_pos, energy)\n",
    "plt.xlabel(\"Month\")\n",
    "plt.ylabel(\"Share of ads\")\n",
    "\n",
    "plt.xticks(x_pos, x)\n",
    "\n",
    "#axes = plt.gca()\n",
    "#axes.set_ylim([1000,1600])\n",
    "\n",
    "plt.show()"
   ]
  },
  {
   "cell_type": "markdown",
   "metadata": {},
   "source": [
    "### Absolut amount of ads"
   ]
  },
  {
   "cell_type": "code",
   "execution_count": 78,
   "metadata": {},
   "outputs": [
    {
     "data": {
      "image/png": "[encoded data removed]",
      "text/plain": [
       "<Figure size 1080x504 with 1 Axes>"
      ]
     },
     "metadata": {
      "needs_background": "light"
     },
     "output_type": "display_data"
    }
   ],
   "source": [
    "x = df_ads_aggregated.index\n",
    "energy = df_ads_aggregated.total_ads\n",
    "\n",
    "x_pos = [i for i, _ in enumerate(x)]\n",
    "\n",
    "plt.figure(figsize=(15,7))\n",
    "plt.bar(x_pos, energy)\n",
    "plt.xlabel(\"Month\")\n",
    "plt.ylabel(\"Total ads\")\n",
    "\n",
    "plt.xticks(x_pos, x)\n",
    "\n",
    "#axes = plt.gca()\n",
    "#axes.set_ylim([1000,1600])\n",
    "\n",
    "plt.show()"
   ]
  },
  {
   "cell_type": "code",
   "execution_count": 79,
   "metadata": {},
   "outputs": [
    {
     "data": {
      "text/plain": [
       "-0.41839557399723376"
      ]
     },
     "execution_count": 79,
     "metadata": {},
     "output_type": "execute_result"
    }
   ],
   "source": [
    "get_total_percentage(pd.DataFrame(df_ads_aggregated[\"total_ads\"]))"
   ]
  },
  {
   "cell_type": "code",
   "execution_count": 80,
   "metadata": {},
   "outputs": [
    {
     "data": {
      "text/plain": [
       "-0.3462901253472711"
      ]
     },
     "execution_count": 80,
     "metadata": {},
     "output_type": "execute_result"
    }
   ],
   "source": [
    "get_total_percentage(pd.DataFrame(df_ads_aggregated[\"share_of_ads\"]))"
   ]
  },
  {
   "cell_type": "markdown",
   "metadata": {},
   "source": [
    "# 6) Did the number of likes decrease?"
   ]
  },
  {
   "cell_type": "code",
   "execution_count": 81,
   "metadata": {},
   "outputs": [],
   "source": [
    "df_likes = df_posts.sort_values(by = [\"date\"])"
   ]
  },
  {
   "cell_type": "code",
   "execution_count": 82,
   "metadata": {},
   "outputs": [],
   "source": [
    "df_likes = df_likes[df_likes.likes != \"Error\"]"
   ]
  },
  {
   "cell_type": "code",
   "execution_count": 83,
   "metadata": {},
   "outputs": [],
   "source": [
    "df_likes[\"likes\"] = list(map(int, df_likes[\"likes\"]))"
   ]
  },
  {
   "cell_type": "code",
   "execution_count": 84,
   "metadata": {},
   "outputs": [
    {
     "data": {
      "text/plain": [
       "date_year_month2\n",
       "2019-03    1395\n",
       "2019-04    1468\n",
       "2019-05    1404\n",
       "2019-06    1405\n",
       "2019-07    1310\n",
       "2019-08    1256\n",
       "2019-09    1393\n",
       "2019-10    1299\n",
       "2019-11    1303\n",
       "2019-12    1389\n",
       "2020-01    1189\n",
       "2020-02    1202\n",
       "2020-03    1211\n",
       "2020-04    1114\n",
       "2020-05    1185\n",
       "2020-06    1133\n",
       "dtype: int64"
      ]
     },
     "execution_count": 84,
     "metadata": {},
     "output_type": "execute_result"
    }
   ],
   "source": [
    "df_likes.groupby([\"date_year_month2\"]).size()"
   ]
  },
  {
   "cell_type": "code",
   "execution_count": 85,
   "metadata": {
    "scrolled": true
   },
   "outputs": [
    {
     "data": {
      "text/plain": [
       "array([1395, 1468, 1404, 1405, 1310, 1256, 1393, 1299, 1303, 1389, 1189,\n",
       "       1202, 1211, 1114, 1185, 1133], dtype=int64)"
      ]
     },
     "execution_count": 85,
     "metadata": {},
     "output_type": "execute_result"
    }
   ],
   "source": [
    "df_likes.groupby([\"date_year_month2\"]).size().values"
   ]
  },
  {
   "cell_type": "code",
   "execution_count": 86,
   "metadata": {},
   "outputs": [],
   "source": [
    "likes_per_post = df_likes.groupby([\"date_year_month2\"]).likes.sum().values / df_likes.groupby([\"date_year_month2\"]).size().values"
   ]
  },
  {
   "cell_type": "code",
   "execution_count": 87,
   "metadata": {},
   "outputs": [
    {
     "data": {
      "text/plain": [
       "array([41426.94121864, 38836.53065395, 38706.68376068, 40758.58434164,\n",
       "       41109.62977099, 45305.62261146, 38613.67982771, 38970.06543495,\n",
       "       36503.12663085, 42530.81209503, 41163.98738436, 40508.86272879,\n",
       "       41883.00082576, 39407.93357271, 41468.30379747, 40859.18623124])"
      ]
     },
     "execution_count": 87,
     "metadata": {},
     "output_type": "execute_result"
    }
   ],
   "source": [
    "likes_per_post"
   ]
  },
  {
   "cell_type": "code",
   "execution_count": 88,
   "metadata": {},
   "outputs": [
    {
     "data": {
      "image/png": "[encoded data removed]",
      "text/plain": [
       "<Figure size 432x288 with 1 Axes>"
      ]
     },
     "metadata": {
      "needs_background": "light"
     },
     "output_type": "display_data"
    }
   ],
   "source": [
    "plt.plot(likes_per_post)\n",
    "axes = plt.gca()\n",
    "axes.set_ylim([0,50000])\n",
    "plt.show()"
   ]
  },
  {
   "cell_type": "code",
   "execution_count": 89,
   "metadata": {},
   "outputs": [
    {
     "data": {
      "text/plain": [
       "40503.30943039005"
      ]
     },
     "execution_count": 89,
     "metadata": {},
     "output_type": "execute_result"
    }
   ],
   "source": [
    "likes_per_post.mean()"
   ]
  },
  {
   "cell_type": "code",
   "execution_count": 90,
   "metadata": {},
   "outputs": [
    {
     "data": {
      "text/plain": [
       "1952.3329698307234"
      ]
     },
     "execution_count": 90,
     "metadata": {},
     "output_type": "execute_result"
    }
   ],
   "source": [
    "likes_per_post.std()"
   ]
  },
  {
   "cell_type": "markdown",
   "metadata": {},
   "source": [
    "### Top posts (likes)"
   ]
  },
  {
   "cell_type": "code",
   "execution_count": 101,
   "metadata": {},
   "outputs": [],
   "source": [
    "df_likes = df_posts.sort_values(by=[\"likes\"],ascending=False)"
   ]
  },
  {
   "cell_type": "code",
   "execution_count": 102,
   "metadata": {},
   "outputs": [],
   "source": [
    "df_likes = df_likes[df_likes.likes != \"Error\"]\n",
    "df_likes[\"likes\"] = list(map(int, df_likes[\"likes\"]))"
   ]
  },
  {
   "cell_type": "code",
   "execution_count": 103,
   "metadata": {},
   "outputs": [],
   "source": [
    "df_likes = df_likes.sort_values(by=[\"likes\"],ascending=False)"
   ]
  },
  {
   "cell_type": "code",
   "execution_count": 105,
   "metadata": {},
   "outputs": [
    {
     "data": {
      "text/html": [
       "<div>\n",
       "<style scoped>\n",
       "    .dataframe tbody tr th:only-of-type {\n",
       "        vertical-align: middle;\n",
       "    }\n",
       "\n",
       "    .dataframe tbody tr th {\n",
       "        vertical-align: top;\n",
       "    }\n",
       "\n",
       "    .dataframe thead th {\n",
       "        text-align: right;\n",
       "    }\n",
       "</style>\n",
       "<table border=\"1\" class=\"dataframe\">\n",
       "  <thead>\n",
       "    <tr style=\"text-align: right;\">\n",
       "      <th></th>\n",
       "      <th>url</th>\n",
       "      <th>timestamp</th>\n",
       "      <th>text</th>\n",
       "      <th>likes</th>\n",
       "      <th>video_views</th>\n",
       "      <th>date</th>\n",
       "      <th>date_year_month</th>\n",
       "      <th>date_year_month2</th>\n",
       "      <th>date_year_week</th>\n",
       "      <th>user</th>\n",
       "    </tr>\n",
       "  </thead>\n",
       "  <tbody>\n",
       "    <tr>\n",
       "      <th>245</th>\n",
       "      <td>https://www.instagram.com/lisaandlena</td>\n",
       "      <td>2019-06-17T07:59:31.000Z</td>\n",
       "      <td>&gt;🎉17🎊&lt;br&gt;Thanks for all the birthday wishes!&lt;b...</td>\n",
       "      <td>786747</td>\n",
       "      <td>Error</td>\n",
       "      <td>2019-06-17 07:59:31+00:00</td>\n",
       "      <td>2019-June</td>\n",
       "      <td>2019-06</td>\n",
       "      <td>2019-24</td>\n",
       "      <td>lisaandlena</td>\n",
       "    </tr>\n",
       "    <tr>\n",
       "      <th>42</th>\n",
       "      <td>https://www.instagram.com/lisaandlena</td>\n",
       "      <td>2020-05-12T10:06:23.000Z</td>\n",
       "      <td>&gt;Wanted something new💇🏼‍♀️✨</td>\n",
       "      <td>727475</td>\n",
       "      <td>Error</td>\n",
       "      <td>2020-05-12 10:06:23+00:00</td>\n",
       "      <td>2020-May</td>\n",
       "      <td>2020-05</td>\n",
       "      <td>2020-19</td>\n",
       "      <td>lisaandlena</td>\n",
       "    </tr>\n",
       "    <tr>\n",
       "      <th>159</th>\n",
       "      <td>https://www.instagram.com/lisaandlena</td>\n",
       "      <td>2019-11-09T16:08:39.000Z</td>\n",
       "      <td>title=\"Bearbeitet\"&gt;Well this is how our morni...</td>\n",
       "      <td>627196</td>\n",
       "      <td>Error</td>\n",
       "      <td>2019-11-09 16:08:39+00:00</td>\n",
       "      <td>2019-November</td>\n",
       "      <td>2019-11</td>\n",
       "      <td>2019-44</td>\n",
       "      <td>lisaandlena</td>\n",
       "    </tr>\n",
       "    <tr>\n",
       "      <th>285</th>\n",
       "      <td>https://www.instagram.com/lisaandlena</td>\n",
       "      <td>2019-04-21T09:04:32.000Z</td>\n",
       "      <td>&gt;Jesus is alive,&lt;br&gt;he is risen from the death...</td>\n",
       "      <td>602759</td>\n",
       "      <td>Error</td>\n",
       "      <td>2019-04-21 09:04:32+00:00</td>\n",
       "      <td>2019-April</td>\n",
       "      <td>2019-04</td>\n",
       "      <td>2019-15</td>\n",
       "      <td>lisaandlena</td>\n",
       "    </tr>\n",
       "    <tr>\n",
       "      <th>140</th>\n",
       "      <td>https://www.instagram.com/lisaandlena</td>\n",
       "      <td>2019-12-11T11:56:26.000Z</td>\n",
       "      <td>&gt;Wow it’s crazy how the time flies!!&lt;br&gt;This w...</td>\n",
       "      <td>599643</td>\n",
       "      <td>Error</td>\n",
       "      <td>2019-12-11 11:56:26+00:00</td>\n",
       "      <td>2019-December</td>\n",
       "      <td>2019-12</td>\n",
       "      <td>2019-49</td>\n",
       "      <td>lisaandlena</td>\n",
       "    </tr>\n",
       "    <tr>\n",
       "      <th>955</th>\n",
       "      <td>https://www.instagram.com/julienco_</td>\n",
       "      <td>2019-11-16T10:13:56.000Z</td>\n",
       "      <td>&gt;mini - me👶🏼&lt;br&gt;Gestern war soo ein schöner Ta...</td>\n",
       "      <td>597742</td>\n",
       "      <td>Error</td>\n",
       "      <td>2019-11-16 10:13:56+00:00</td>\n",
       "      <td>2019-November</td>\n",
       "      <td>2019-11</td>\n",
       "      <td>2019-45</td>\n",
       "      <td>julienco_</td>\n",
       "    </tr>\n",
       "    <tr>\n",
       "      <th>50</th>\n",
       "      <td>https://www.instagram.com/lisaandlena</td>\n",
       "      <td>2020-05-07T10:13:22.000Z</td>\n",
       "      <td>title=\"Bearbeitet\"&gt;We’re so excited to be bac...</td>\n",
       "      <td>593241</td>\n",
       "      <td>Error</td>\n",
       "      <td>2020-05-07 10:13:22+00:00</td>\n",
       "      <td>2020-May</td>\n",
       "      <td>2020-05</td>\n",
       "      <td>2020-18</td>\n",
       "      <td>lisaandlena</td>\n",
       "    </tr>\n",
       "    <tr>\n",
       "      <th>957</th>\n",
       "      <td>https://www.instagram.com/julienco_</td>\n",
       "      <td>2019-10-19T08:55:04.000Z</td>\n",
       "      <td>&gt;3 Generationen ❤️ die 2 wichtigsten ‚Männer‘ ...</td>\n",
       "      <td>586604</td>\n",
       "      <td>Error</td>\n",
       "      <td>2019-10-19 08:55:04+00:00</td>\n",
       "      <td>2019-October</td>\n",
       "      <td>2019-10</td>\n",
       "      <td>2019-41</td>\n",
       "      <td>julienco_</td>\n",
       "    </tr>\n",
       "    <tr>\n",
       "      <th>214</th>\n",
       "      <td>https://www.instagram.com/lisaandlena</td>\n",
       "      <td>2019-08-07T06:40:12.000Z</td>\n",
       "      <td>&gt;Good morning from us, well just from me Lena ...</td>\n",
       "      <td>530721</td>\n",
       "      <td>Error</td>\n",
       "      <td>2019-08-07 06:40:12+00:00</td>\n",
       "      <td>2019-August</td>\n",
       "      <td>2019-08</td>\n",
       "      <td>2019-31</td>\n",
       "      <td>lisaandlena</td>\n",
       "    </tr>\n",
       "    <tr>\n",
       "      <th>2458</th>\n",
       "      <td>https://www.instagram.com/lenagercke</td>\n",
       "      <td>2020-01-12T11:55:26.000Z</td>\n",
       "      <td>&gt;1+1=3 ❤️❤️❤️</td>\n",
       "      <td>529573</td>\n",
       "      <td>Error</td>\n",
       "      <td>2020-01-12 11:55:26+00:00</td>\n",
       "      <td>2020-January</td>\n",
       "      <td>2020-01</td>\n",
       "      <td>2020-01</td>\n",
       "      <td>lenagercke</td>\n",
       "    </tr>\n",
       "    <tr>\n",
       "      <th>946</th>\n",
       "      <td>https://www.instagram.com/julienco_</td>\n",
       "      <td>2020-04-09T09:40:00.000Z</td>\n",
       "      <td>&gt;meine 🌍</td>\n",
       "      <td>519555</td>\n",
       "      <td>Error</td>\n",
       "      <td>2020-04-09 09:40:00+00:00</td>\n",
       "      <td>2020-April</td>\n",
       "      <td>2020-04</td>\n",
       "      <td>2020-14</td>\n",
       "      <td>julienco_</td>\n",
       "    </tr>\n",
       "    <tr>\n",
       "      <th>945</th>\n",
       "      <td>https://www.instagram.com/julienco_</td>\n",
       "      <td>2020-04-21T12:18:26.000Z</td>\n",
       "      <td>&gt;was eine süße Überraschung 🎈🎂</td>\n",
       "      <td>516337</td>\n",
       "      <td>Error</td>\n",
       "      <td>2020-04-21 12:18:26+00:00</td>\n",
       "      <td>2020-April</td>\n",
       "      <td>2020-04</td>\n",
       "      <td>2020-16</td>\n",
       "      <td>julienco_</td>\n",
       "    </tr>\n",
       "    <tr>\n",
       "      <th>963</th>\n",
       "      <td>https://www.instagram.com/julienco_</td>\n",
       "      <td>2019-08-01T09:41:48.000Z</td>\n",
       "      <td>&gt;Darf ich vorstellen :&lt;br&gt;Unser neuer Gartenti...</td>\n",
       "      <td>507238</td>\n",
       "      <td>Error</td>\n",
       "      <td>2019-08-01 09:41:48+00:00</td>\n",
       "      <td>2019-August</td>\n",
       "      <td>2019-08</td>\n",
       "      <td>2019-30</td>\n",
       "      <td>julienco_</td>\n",
       "    </tr>\n",
       "    <tr>\n",
       "      <th>956</th>\n",
       "      <td>https://www.instagram.com/julienco_</td>\n",
       "      <td>2019-11-11T13:20:54.000Z</td>\n",
       "      <td>&gt;Papa und Sohn Liebe ❤️😴</td>\n",
       "      <td>498067</td>\n",
       "      <td>Error</td>\n",
       "      <td>2019-11-11 13:20:54+00:00</td>\n",
       "      <td>2019-November</td>\n",
       "      <td>2019-11</td>\n",
       "      <td>2019-45</td>\n",
       "      <td>julienco_</td>\n",
       "    </tr>\n",
       "    <tr>\n",
       "      <th>205</th>\n",
       "      <td>https://www.instagram.com/lisaandlena</td>\n",
       "      <td>2019-08-23T12:21:21.000Z</td>\n",
       "      <td>title=\"Bearbeitet\"&gt;❗️xLL❗️&lt;br&gt;Excited for thi...</td>\n",
       "      <td>492248</td>\n",
       "      <td>Error</td>\n",
       "      <td>2019-08-23 12:21:21+00:00</td>\n",
       "      <td>2019-August</td>\n",
       "      <td>2019-08</td>\n",
       "      <td>2019-33</td>\n",
       "      <td>lisaandlena</td>\n",
       "    </tr>\n",
       "    <tr>\n",
       "      <th>265</th>\n",
       "      <td>https://www.instagram.com/lisaandlena</td>\n",
       "      <td>2019-05-21T16:52:51.000Z</td>\n",
       "      <td>&gt;𝐇𝐀𝐏𝐏𝐘 𝐋𝐈𝐅𝐄&lt;br&gt;&lt;br&gt;𝐓𝐨 𝐛𝐞 𝐡𝐨𝐧𝐞𝐬𝐭 𝐈 𝐡𝐚𝐯𝐞 𝐚 𝐥𝐨𝐭 𝐨...</td>\n",
       "      <td>485756</td>\n",
       "      <td>Error</td>\n",
       "      <td>2019-05-21 16:52:51+00:00</td>\n",
       "      <td>2019-May</td>\n",
       "      <td>2019-05</td>\n",
       "      <td>2019-20</td>\n",
       "      <td>lisaandlena</td>\n",
       "    </tr>\n",
       "    <tr>\n",
       "      <th>951</th>\n",
       "      <td>https://www.instagram.com/julienco_</td>\n",
       "      <td>2020-01-10T19:43:29.000Z</td>\n",
       "      <td>&gt;Ab in den Urlaaaaaub 🏝 &lt;br&gt;Da kann man auch m...</td>\n",
       "      <td>468614</td>\n",
       "      <td>Error</td>\n",
       "      <td>2020-01-10 19:43:29+00:00</td>\n",
       "      <td>2020-January</td>\n",
       "      <td>2020-01</td>\n",
       "      <td>2020-01</td>\n",
       "      <td>julienco_</td>\n",
       "    </tr>\n",
       "    <tr>\n",
       "      <th>2950</th>\n",
       "      <td>https://www.instagram.com/sarah.harrison.official</td>\n",
       "      <td>2020-02-01T11:01:57.000Z</td>\n",
       "      <td>&gt;Wir können uns im Moment nicht glücklicher sc...</td>\n",
       "      <td>453529</td>\n",
       "      <td>Error</td>\n",
       "      <td>2020-02-01 11:01:57+00:00</td>\n",
       "      <td>2020-February</td>\n",
       "      <td>2020-02</td>\n",
       "      <td>2020-04</td>\n",
       "      <td>sarah.harrison.official</td>\n",
       "    </tr>\n",
       "    <tr>\n",
       "      <th>215</th>\n",
       "      <td>https://www.instagram.com/lisaandlena</td>\n",
       "      <td>2019-08-06T11:05:12.000Z</td>\n",
       "      <td>&gt;The old town of Rhodos is so beautiful 🏰</td>\n",
       "      <td>453408</td>\n",
       "      <td>Error</td>\n",
       "      <td>2019-08-06 11:05:12+00:00</td>\n",
       "      <td>2019-August</td>\n",
       "      <td>2019-08</td>\n",
       "      <td>2019-31</td>\n",
       "      <td>lisaandlena</td>\n",
       "    </tr>\n",
       "    <tr>\n",
       "      <th>952</th>\n",
       "      <td>https://www.instagram.com/julienco_</td>\n",
       "      <td>2019-12-10T13:42:42.000Z</td>\n",
       "      <td>title=\"Bearbeitet\"&gt;Was für eine schöne Zeit 🥰...</td>\n",
       "      <td>452234</td>\n",
       "      <td>Error</td>\n",
       "      <td>2019-12-10 13:42:42+00:00</td>\n",
       "      <td>2019-December</td>\n",
       "      <td>2019-12</td>\n",
       "      <td>2019-49</td>\n",
       "      <td>julienco_</td>\n",
       "    </tr>\n",
       "  </tbody>\n",
       "</table>\n",
       "</div>"
      ],
      "text/plain": [
       "                                                    url  \\\n",
       "245               https://www.instagram.com/lisaandlena   \n",
       "42                https://www.instagram.com/lisaandlena   \n",
       "159               https://www.instagram.com/lisaandlena   \n",
       "285               https://www.instagram.com/lisaandlena   \n",
       "140               https://www.instagram.com/lisaandlena   \n",
       "955                 https://www.instagram.com/julienco_   \n",
       "50                https://www.instagram.com/lisaandlena   \n",
       "957                 https://www.instagram.com/julienco_   \n",
       "214               https://www.instagram.com/lisaandlena   \n",
       "2458               https://www.instagram.com/lenagercke   \n",
       "946                 https://www.instagram.com/julienco_   \n",
       "945                 https://www.instagram.com/julienco_   \n",
       "963                 https://www.instagram.com/julienco_   \n",
       "956                 https://www.instagram.com/julienco_   \n",
       "205               https://www.instagram.com/lisaandlena   \n",
       "265               https://www.instagram.com/lisaandlena   \n",
       "951                 https://www.instagram.com/julienco_   \n",
       "2950  https://www.instagram.com/sarah.harrison.official   \n",
       "215               https://www.instagram.com/lisaandlena   \n",
       "952                 https://www.instagram.com/julienco_   \n",
       "\n",
       "                     timestamp  \\\n",
       "245   2019-06-17T07:59:31.000Z   \n",
       "42    2020-05-12T10:06:23.000Z   \n",
       "159   2019-11-09T16:08:39.000Z   \n",
       "285   2019-04-21T09:04:32.000Z   \n",
       "140   2019-12-11T11:56:26.000Z   \n",
       "955   2019-11-16T10:13:56.000Z   \n",
       "50    2020-05-07T10:13:22.000Z   \n",
       "957   2019-10-19T08:55:04.000Z   \n",
       "214   2019-08-07T06:40:12.000Z   \n",
       "2458  2020-01-12T11:55:26.000Z   \n",
       "946   2020-04-09T09:40:00.000Z   \n",
       "945   2020-04-21T12:18:26.000Z   \n",
       "963   2019-08-01T09:41:48.000Z   \n",
       "956   2019-11-11T13:20:54.000Z   \n",
       "205   2019-08-23T12:21:21.000Z   \n",
       "265   2019-05-21T16:52:51.000Z   \n",
       "951   2020-01-10T19:43:29.000Z   \n",
       "2950  2020-02-01T11:01:57.000Z   \n",
       "215   2019-08-06T11:05:12.000Z   \n",
       "952   2019-12-10T13:42:42.000Z   \n",
       "\n",
       "                                                   text   likes video_views  \\\n",
       "245   >🎉17🎊<br>Thanks for all the birthday wishes!<b...  786747       Error   \n",
       "42                          >Wanted something new💇🏼‍♀️✨  727475       Error   \n",
       "159    title=\"Bearbeitet\">Well this is how our morni...  627196       Error   \n",
       "285   >Jesus is alive,<br>he is risen from the death...  602759       Error   \n",
       "140   >Wow it’s crazy how the time flies!!<br>This w...  599643       Error   \n",
       "955   >mini - me👶🏼<br>Gestern war soo ein schöner Ta...  597742       Error   \n",
       "50     title=\"Bearbeitet\">We’re so excited to be bac...  593241       Error   \n",
       "957   >3 Generationen ❤️ die 2 wichtigsten ‚Männer‘ ...  586604       Error   \n",
       "214   >Good morning from us, well just from me Lena ...  530721       Error   \n",
       "2458                                      >1+1=3 ❤️❤️❤️  529573       Error   \n",
       "946                                            >meine 🌍  519555       Error   \n",
       "945                      >was eine süße Überraschung 🎈🎂  516337       Error   \n",
       "963   >Darf ich vorstellen :<br>Unser neuer Gartenti...  507238       Error   \n",
       "956                            >Papa und Sohn Liebe ❤️😴  498067       Error   \n",
       "205    title=\"Bearbeitet\">❗️xLL❗️<br>Excited for thi...  492248       Error   \n",
       "265   >𝐇𝐀𝐏𝐏𝐘 𝐋𝐈𝐅𝐄<br><br>𝐓𝐨 𝐛𝐞 𝐡𝐨𝐧𝐞𝐬𝐭 𝐈 𝐡𝐚𝐯𝐞 𝐚 𝐥𝐨𝐭 𝐨...  485756       Error   \n",
       "951   >Ab in den Urlaaaaaub 🏝 <br>Da kann man auch m...  468614       Error   \n",
       "2950  >Wir können uns im Moment nicht glücklicher sc...  453529       Error   \n",
       "215           >The old town of Rhodos is so beautiful 🏰  453408       Error   \n",
       "952    title=\"Bearbeitet\">Was für eine schöne Zeit 🥰...  452234       Error   \n",
       "\n",
       "                           date date_year_month date_year_month2  \\\n",
       "245   2019-06-17 07:59:31+00:00       2019-June          2019-06   \n",
       "42    2020-05-12 10:06:23+00:00        2020-May          2020-05   \n",
       "159   2019-11-09 16:08:39+00:00   2019-November          2019-11   \n",
       "285   2019-04-21 09:04:32+00:00      2019-April          2019-04   \n",
       "140   2019-12-11 11:56:26+00:00   2019-December          2019-12   \n",
       "955   2019-11-16 10:13:56+00:00   2019-November          2019-11   \n",
       "50    2020-05-07 10:13:22+00:00        2020-May          2020-05   \n",
       "957   2019-10-19 08:55:04+00:00    2019-October          2019-10   \n",
       "214   2019-08-07 06:40:12+00:00     2019-August          2019-08   \n",
       "2458  2020-01-12 11:55:26+00:00    2020-January          2020-01   \n",
       "946   2020-04-09 09:40:00+00:00      2020-April          2020-04   \n",
       "945   2020-04-21 12:18:26+00:00      2020-April          2020-04   \n",
       "963   2019-08-01 09:41:48+00:00     2019-August          2019-08   \n",
       "956   2019-11-11 13:20:54+00:00   2019-November          2019-11   \n",
       "205   2019-08-23 12:21:21+00:00     2019-August          2019-08   \n",
       "265   2019-05-21 16:52:51+00:00        2019-May          2019-05   \n",
       "951   2020-01-10 19:43:29+00:00    2020-January          2020-01   \n",
       "2950  2020-02-01 11:01:57+00:00   2020-February          2020-02   \n",
       "215   2019-08-06 11:05:12+00:00     2019-August          2019-08   \n",
       "952   2019-12-10 13:42:42+00:00   2019-December          2019-12   \n",
       "\n",
       "     date_year_week                     user  \n",
       "245         2019-24              lisaandlena  \n",
       "42          2020-19              lisaandlena  \n",
       "159         2019-44              lisaandlena  \n",
       "285         2019-15              lisaandlena  \n",
       "140         2019-49              lisaandlena  \n",
       "955         2019-45                julienco_  \n",
       "50          2020-18              lisaandlena  \n",
       "957         2019-41                julienco_  \n",
       "214         2019-31              lisaandlena  \n",
       "2458        2020-01               lenagercke  \n",
       "946         2020-14                julienco_  \n",
       "945         2020-16                julienco_  \n",
       "963         2019-30                julienco_  \n",
       "956         2019-45                julienco_  \n",
       "205         2019-33              lisaandlena  \n",
       "265         2019-20              lisaandlena  \n",
       "951         2020-01                julienco_  \n",
       "2950        2020-04  sarah.harrison.official  \n",
       "215         2019-31              lisaandlena  \n",
       "952         2019-49                julienco_  "
      ]
     },
     "execution_count": 105,
     "metadata": {},
     "output_type": "execute_result"
    }
   ],
   "source": [
    "df_likes.head(20)"
   ]
  },
  {
   "cell_type": "code",
   "execution_count": null,
   "metadata": {},
   "outputs": [],
   "source": []
  }
 ],
 "metadata": {
  "jupytext": {
   "formats": "ipynb,py:percent"
  },
  "kernelspec": {
   "display_name": "Python 3",
   "language": "python",
   "name": "python3"
  },
  "language_info": {
   "codemirror_mode": {
    "name": "ipython",
    "version": 3
   },
   "file_extension": ".py",
   "mimetype": "text/x-python",
   "name": "python",
   "nbconvert_exporter": "python",
   "pygments_lexer": "ipython3",
   "version": "3.7.4"
  }
 },
 "nbformat": 4,
 "nbformat_minor": 2
}
