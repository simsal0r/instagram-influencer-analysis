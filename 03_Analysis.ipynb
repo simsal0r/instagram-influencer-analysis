{
 "cells": [
  {
   "cell_type": "code",
   "execution_count": 55,
   "metadata": {},
   "outputs": [],
   "source": [
    "import pandas as pd\n",
    "import numpy as np\n",
    "from matplotlib import pyplot as plt"
   ]
  },
  {
   "cell_type": "code",
   "execution_count": 56,
   "metadata": {},
   "outputs": [
    {
     "data": {
      "text/html": [
       "<style>.container { width:100% !important; }</style>"
      ],
      "text/plain": [
       "<IPython.core.display.HTML object>"
      ]
     },
     "metadata": {},
     "output_type": "display_data"
    }
   ],
   "source": [
    "from IPython.display import display, HTML\n",
    "\n",
    "display(HTML(\"<style>.container { width:100% !important; }</style>\"))\n",
    "#pd.set_option('display.max_colwidth', None)"
   ]
  },
  {
   "cell_type": "code",
   "execution_count": 57,
   "metadata": {},
   "outputs": [],
   "source": [
    "#plt.style.use('ggplot')\n",
    "import matplotlib.pyplot as plt\n",
    "plt.rcParams[\"font.family\"] = \"Times New Roman\"\n",
    "plt.rcParams.update({'font.size': 12})"
   ]
  },
  {
   "cell_type": "code",
   "execution_count": 58,
   "metadata": {},
   "outputs": [],
   "source": [
    "df_info = pd.read_csv(\"influencer_information.csv\", sep = \"|\",index_col=0)"
   ]
  },
  {
   "cell_type": "code",
   "execution_count": 59,
   "metadata": {},
   "outputs": [],
   "source": [
    "df_posts = pd.read_csv(\"results_cleaned.csv\", sep = \"|\",index_col=0)"
   ]
  },
  {
   "cell_type": "code",
   "execution_count": 60,
   "metadata": {},
   "outputs": [],
   "source": [
    "mask = (df_posts['date_year_month2'] < \"2020-07\") & (df_posts['date_year_month2'] > \"2019-02\")\n",
    "df_posts = df_posts.loc[mask]"
   ]
  },
  {
   "cell_type": "code",
   "execution_count": 61,
   "metadata": {},
   "outputs": [
    {
     "data": {
      "text/plain": [
       "22722"
      ]
     },
     "execution_count": 61,
     "metadata": {},
     "output_type": "execute_result"
    }
   ],
   "source": [
    "len(df_posts)"
   ]
  },
  {
   "cell_type": "code",
   "execution_count": 62,
   "metadata": {},
   "outputs": [],
   "source": [
    "plot_df = pd.DataFrame(df_posts.groupby([\"date_year_month2\"]).size())"
   ]
  },
  {
   "cell_type": "code",
   "execution_count": 63,
   "metadata": {},
   "outputs": [],
   "source": [
    "def plot_two_bars(plot_df):\n",
    "    labels = ['March', 'April', 'May']\n",
    "    means_2019 = [plot_df.loc[\"2019-03\"].values[0], plot_df.loc[\"2019-04\"].values[0], plot_df.loc[\"2019-05\"].values[0]]\n",
    "    means_2020 = [plot_df.loc[\"2020-03\"].values[0], plot_df.loc[\"2020-04\"].values[0], plot_df.loc[\"2020-05\"].values[0]]\n",
    "\n",
    "    x = np.arange(len(labels))  # the label locations\n",
    "    width = 0.35  # the width of the bars\n",
    "\n",
    "    fig, ax = plt.subplots(figsize=(8,5))\n",
    "    rects1 = ax.bar(x - width/2, means_2019, width, label='2019')\n",
    "    rects2 = ax.bar(x + width/2, means_2020, width, label='2020')\n",
    "\n",
    "    # Add some text for labels, title and custom x-axis tick labels, etc.\n",
    "    ax.set_ylabel('Posts')\n",
    "    ax.set_title('Posts by year and month')\n",
    "    ax.set_xticks(x)\n",
    "    ax.set_xticklabels(labels)\n",
    " \n",
    "    def autolabel(rects):\n",
    "        \"\"\"Attach a text label above each bar in *rects*, displaying its height.\"\"\"\n",
    "        for rect in rects:\n",
    "            height = rect.get_height()\n",
    "            ax.annotate('{}'.format(height),\n",
    "                        xy=(rect.get_x() + rect.get_width() / 2, height),\n",
    "                        xytext=(0, 3),  # 3 points vertical offset\n",
    "                        textcoords=\"offset points\",\n",
    "                        ha='center', va='bottom')\n",
    "\n",
    "    autolabel(rects1)\n",
    "    autolabel(rects2)\n",
    "\n",
    "    fig.tight_layout()\n",
    "    \n",
    "    plt.savefig(\"2bars.pdf\")\n",
    "\n",
    "    plt.show()"
   ]
  },
  {
   "cell_type": "code",
   "execution_count": 64,
   "metadata": {},
   "outputs": [],
   "source": [
    "def get_percentages(plot_df):\n",
    "    mar = (plot_df.loc[\"2020-03\"].values[0] - plot_df.loc[\"2019-03\"].values[0])/plot_df.loc[\"2019-03\"].values[0]\n",
    "    apr = (plot_df.loc[\"2020-04\"].values[0] - plot_df.loc[\"2019-04\"].values[0])/plot_df.loc[\"2019-04\"].values[0]\n",
    "    may = (plot_df.loc[\"2020-05\"].values[0] - plot_df.loc[\"2019-05\"].values[0])/plot_df.loc[\"2019-05\"].values[0]\n",
    "    return(mar,apr,may)"
   ]
  },
  {
   "cell_type": "code",
   "execution_count": 65,
   "metadata": {},
   "outputs": [],
   "source": [
    "def get_total_percentage(plot_df):\n",
    "    \n",
    "    a = plot_df.loc[\"2020-03\"].values[0] + plot_df.loc[\"2020-04\"].values[0] + plot_df.loc[\"2020-05\"].values[0]\n",
    "    b = plot_df.loc[\"2019-03\"].values[0] + plot_df.loc[\"2019-04\"].values[0] + plot_df.loc[\"2019-05\"].values[0]\n",
    "\n",
    "    return((a-b)/b)"
   ]
  },
  {
   "cell_type": "code",
   "execution_count": 66,
   "metadata": {},
   "outputs": [],
   "source": [
    "#Insert 0 if no posts are available \n",
    "def get_total_percentage2(user_grouped_df):\n",
    "    try:\n",
    "        a = user_grouped_df.loc[\"2019-03\"].values[0]\n",
    "    except:\n",
    "        a = 0\n",
    "        \n",
    "    try:\n",
    "        b = user_grouped_df.loc[\"2019-04\"].values[0]\n",
    "    except:\n",
    "        b = 0\n",
    "        \n",
    "    try:\n",
    "        c = user_grouped_df.loc[\"2019-05\"].values[0]\n",
    "    except:\n",
    "        c = 0\n",
    "        \n",
    "    try:\n",
    "        d = user_grouped_df.loc[\"2020-03\"].values[0]\n",
    "    except:\n",
    "        d = 0\n",
    "        \n",
    "    try:\n",
    "        e = user_grouped_df.loc[\"2020-04\"].values[0]\n",
    "    except:\n",
    "        e = 0\n",
    "        \n",
    "    try:\n",
    "        f = user_grouped_df.loc[\"2020-05\"].values[0]\n",
    "    except:\n",
    "        f = 0\n",
    "        \n",
    "        \n",
    "    total_3month_19 = a + b + c\n",
    "    total_3month_20 = d + e + f\n",
    "\n",
    "    month_sample = total_3month_19 + total_3month_20\n",
    "    \n",
    "    months_difference = -999\n",
    "    \n",
    "    if not(total_3month_20 == 0 or total_3month_19 == 0): \n",
    "        months_difference = (total_3month_20 - total_3month_19)/total_3month_19\n",
    "    return(months_difference,month_sample)"
   ]
  },
  {
   "cell_type": "code",
   "execution_count": 67,
   "metadata": {
    "scrolled": false
   },
   "outputs": [],
   "source": [
    "def plot_bar_chart(plot_df):\n",
    "    x = plot_df.index\n",
    "    energy = plot_df[0]\n",
    "\n",
    "    x_pos = [i for i, _ in enumerate(x)]\n",
    "\n",
    "    plt.figure(figsize=(17,4))\n",
    "    plt.bar(x_pos, energy, color = \"grey\")\n",
    "    plt.xlabel(\"Month\")\n",
    "    plt.ylabel(\"Posts\")\n",
    "\n",
    "    plt.xticks(x_pos, x,rotation=90)\n",
    "\n",
    "    axes = plt.gca()\n",
    "\n",
    "    #Limits of Y axis\n",
    "    axes.set_ylim([1000,1600])\n",
    "    plt.savefig(\"bars.pdf\",bbox_inches='tight')\n",
    "    plt.show()"
   ]
  },
  {
   "cell_type": "markdown",
   "metadata": {},
   "source": [
    "# Theory 1: Total post volume decreased?"
   ]
  },
  {
   "cell_type": "code",
   "execution_count": 68,
   "metadata": {},
   "outputs": [
    {
     "data": {
      "image/png": "[encoded data removed]",
      "text/plain": [
       "<Figure size 1224x288 with 1 Axes>"
      ]
     },
     "metadata": {
      "needs_background": "light"
     },
     "output_type": "display_data"
    }
   ],
   "source": [
    "plot_bar_chart(plot_df)"
   ]
  },
  {
   "cell_type": "code",
   "execution_count": 69,
   "metadata": {},
   "outputs": [
    {
     "data": {
      "text/plain": [
       "-0.11130434782608696"
      ]
     },
     "execution_count": 69,
     "metadata": {},
     "output_type": "execute_result"
    }
   ],
   "source": [
    "get_total_percentage(plot_df)"
   ]
  },
  {
   "cell_type": "code",
   "execution_count": 70,
   "metadata": {},
   "outputs": [
    {
     "data": {
      "image/png": "[encoded data removed]",
      "text/plain": [
       "<Figure size 576x360 with 1 Axes>"
      ]
     },
     "metadata": {
      "needs_background": "light"
     },
     "output_type": "display_data"
    }
   ],
   "source": [
    "plot_two_bars(plot_df)"
   ]
  },
  {
   "cell_type": "code",
   "execution_count": 71,
   "metadata": {},
   "outputs": [
    {
     "data": {
      "text/plain": [
       "(-0.07237715803452856, -0.16981132075471697, -0.0884308510638298)"
      ]
     },
     "execution_count": 71,
     "metadata": {},
     "output_type": "execute_result"
    }
   ],
   "source": [
    "get_percentages(plot_df)"
   ]
  },
  {
   "cell_type": "markdown",
   "metadata": {},
   "source": [
    "### Distribution of the decrease"
   ]
  },
  {
   "cell_type": "code",
   "execution_count": 72,
   "metadata": {},
   "outputs": [],
   "source": [
    "del plot_df"
   ]
  },
  {
   "cell_type": "code",
   "execution_count": 73,
   "metadata": {},
   "outputs": [],
   "source": [
    "plot_df = pd.DataFrame()"
   ]
  },
  {
   "cell_type": "code",
   "execution_count": 74,
   "metadata": {},
   "outputs": [],
   "source": [
    "for user1 in df_posts.user.unique():\n",
    "    user_df = df_posts[df_posts.user == user1]\n",
    "    user_grouped_df = pd.DataFrame(user_df.groupby([\"date_year_month2\"]).size())\n",
    "        \n",
    "    try:\n",
    "        a = user_grouped_df.loc[\"2019-03\"].values[0]\n",
    "    except:\n",
    "        a = 0\n",
    "        \n",
    "    try:\n",
    "        b = user_grouped_df.loc[\"2019-04\"].values[0]\n",
    "    except:\n",
    "        b = 0\n",
    "        \n",
    "    try:\n",
    "        c = user_grouped_df.loc[\"2019-05\"].values[0]\n",
    "    except:\n",
    "        c = 0\n",
    "        \n",
    "    try:\n",
    "        d = user_grouped_df.loc[\"2020-03\"].values[0]\n",
    "    except:\n",
    "        d = 0\n",
    "        \n",
    "    try:\n",
    "        e = user_grouped_df.loc[\"2020-04\"].values[0]\n",
    "    except:\n",
    "        e = 0\n",
    "        \n",
    "    try:\n",
    "        f = user_grouped_df.loc[\"2020-05\"].values[0]\n",
    "    except:\n",
    "        f = 0\n",
    "        \n",
    "        \n",
    "    total_3month_19 = a + b + c\n",
    "    total_3month_20 = d + e + f\n",
    "\n",
    "    month_sample = total_3month_19 + total_3month_20\n",
    "    \n",
    "    months_difference = -999\n",
    "    \n",
    "    if not(total_3month_20 == 0 or total_3month_19 == 0): \n",
    "        months_difference = (total_3month_20 - total_3month_19)/total_3month_19\n",
    "    \n",
    "    plot_df = plot_df.append({\"user\": user1,\"months_difference\":months_difference, \"month_sample\" : month_sample},ignore_index=True)"
   ]
  },
  {
   "cell_type": "code",
   "execution_count": 75,
   "metadata": {},
   "outputs": [],
   "source": [
    "#Exclude outliers\n",
    "plot_df = plot_df[plot_df.month_sample >= 30]\n",
    "#plot_df = plot_df[plot_df.months_difference != -999]\n",
    "plot_df = plot_df[plot_df.months_difference < 1.5]"
   ]
  },
  {
   "cell_type": "code",
   "execution_count": 94,
   "metadata": {},
   "outputs": [],
   "source": [
    "#Scaling\n",
    "plot_df[\"months_difference\"] = plot_df.months_difference.apply(lambda x: x*100)"
   ]
  },
  {
   "cell_type": "code",
   "execution_count": 95,
   "metadata": {},
   "outputs": [
    {
     "data": {
      "text/html": [
       "<div>\n",
       "<style scoped>\n",
       "    .dataframe tbody tr th:only-of-type {\n",
       "        vertical-align: middle;\n",
       "    }\n",
       "\n",
       "    .dataframe tbody tr th {\n",
       "        vertical-align: top;\n",
       "    }\n",
       "\n",
       "    .dataframe thead th {\n",
       "        text-align: right;\n",
       "    }\n",
       "</style>\n",
       "<table border=\"1\" class=\"dataframe\">\n",
       "  <thead>\n",
       "    <tr style=\"text-align: right;\">\n",
       "      <th></th>\n",
       "      <th>month_sample</th>\n",
       "      <th>months_difference</th>\n",
       "      <th>user</th>\n",
       "      <th>0.3157894736842105</th>\n",
       "    </tr>\n",
       "  </thead>\n",
       "  <tbody>\n",
       "    <tr>\n",
       "      <td>0</td>\n",
       "      <td>127.0</td>\n",
       "      <td>-13.235294</td>\n",
       "      <td>lisaandlena</td>\n",
       "      <td>-13.235294</td>\n",
       "    </tr>\n",
       "    <tr>\n",
       "      <td>1</td>\n",
       "      <td>95.0</td>\n",
       "      <td>37.500000</td>\n",
       "      <td>dagibee</td>\n",
       "      <td>37.500000</td>\n",
       "    </tr>\n",
       "    <tr>\n",
       "      <td>2</td>\n",
       "      <td>137.0</td>\n",
       "      <td>36.206897</td>\n",
       "      <td>pamela_rf</td>\n",
       "      <td>36.206897</td>\n",
       "    </tr>\n",
       "    <tr>\n",
       "      <td>5</td>\n",
       "      <td>31.0</td>\n",
       "      <td>-27.777778</td>\n",
       "      <td>paola</td>\n",
       "      <td>-27.777778</td>\n",
       "    </tr>\n",
       "    <tr>\n",
       "      <td>6</td>\n",
       "      <td>111.0</td>\n",
       "      <td>-26.562500</td>\n",
       "      <td>stefaniegiesinger</td>\n",
       "      <td>-26.562500</td>\n",
       "    </tr>\n",
       "    <tr>\n",
       "      <td>...</td>\n",
       "      <td>...</td>\n",
       "      <td>...</td>\n",
       "      <td>...</td>\n",
       "      <td>...</td>\n",
       "    </tr>\n",
       "    <tr>\n",
       "      <td>73</td>\n",
       "      <td>156.0</td>\n",
       "      <td>2.597403</td>\n",
       "      <td>hannah.hofinger</td>\n",
       "      <td>2.597403</td>\n",
       "    </tr>\n",
       "    <tr>\n",
       "      <td>74</td>\n",
       "      <td>87.0</td>\n",
       "      <td>2.325581</td>\n",
       "      <td>lolaweippert</td>\n",
       "      <td>2.325581</td>\n",
       "    </tr>\n",
       "    <tr>\n",
       "      <td>75</td>\n",
       "      <td>244.0</td>\n",
       "      <td>51.546392</td>\n",
       "      <td>frankly.alina</td>\n",
       "      <td>51.546392</td>\n",
       "    </tr>\n",
       "    <tr>\n",
       "      <td>76</td>\n",
       "      <td>83.0</td>\n",
       "      <td>12.820513</td>\n",
       "      <td>putsch.i</td>\n",
       "      <td>12.820513</td>\n",
       "    </tr>\n",
       "    <tr>\n",
       "      <td>77</td>\n",
       "      <td>132.0</td>\n",
       "      <td>31.578947</td>\n",
       "      <td>laratolksdorf</td>\n",
       "      <td>31.578947</td>\n",
       "    </tr>\n",
       "  </tbody>\n",
       "</table>\n",
       "<p>66 rows × 4 columns</p>\n",
       "</div>"
      ],
      "text/plain": [
       "    month_sample  months_difference               user  0.3157894736842105\n",
       "0          127.0         -13.235294        lisaandlena          -13.235294\n",
       "1           95.0          37.500000            dagibee           37.500000\n",
       "2          137.0          36.206897          pamela_rf           36.206897\n",
       "5           31.0         -27.777778              paola          -27.777778\n",
       "6          111.0         -26.562500  stefaniegiesinger          -26.562500\n",
       "..           ...                ...                ...                 ...\n",
       "73         156.0           2.597403    hannah.hofinger            2.597403\n",
       "74          87.0           2.325581       lolaweippert            2.325581\n",
       "75         244.0          51.546392      frankly.alina           51.546392\n",
       "76          83.0          12.820513           putsch.i           12.820513\n",
       "77         132.0          31.578947      laratolksdorf           31.578947\n",
       "\n",
       "[66 rows x 4 columns]"
      ]
     },
     "execution_count": 95,
     "metadata": {},
     "output_type": "execute_result"
    }
   ],
   "source": [
    "plot_df"
   ]
  },
  {
   "cell_type": "code",
   "execution_count": 100,
   "metadata": {},
   "outputs": [
    {
     "data": {
      "image/png": "[encoded data removed]",
      "text/plain": [
       "<Figure size 576x360 with 1 Axes>"
      ]
     },
     "metadata": {
      "needs_background": "light"
     },
     "output_type": "display_data"
    }
   ],
   "source": [
    "clean_bins = [-100,-75,-50,-25,0,25,50,75,100]\n",
    "\n",
    "for feature in [\"months_difference\"]:\n",
    "\n",
    "    n, bins, patches = plt.hist(x=plot_df[feature], bins=clean_bins, color='#0504aa',\n",
    "                                alpha=0.7, rwidth=0.85)\n",
    "    #plt.title(feature)\n",
    "    plt.xlabel(\"Percentage decrease / increase\")\n",
    "    plt.ylabel(\"Users\")\n",
    "    plt.grid(axis='y', alpha=0.75)\n",
    "    maxfreq = n.max()\n",
    "    fig = plt.gcf()\n",
    "    fig.set_size_inches(8, 5)\n",
    "    plt.savefig(\"distusers.pdf\")\n",
    "    plt.show()"
   ]
  },
  {
   "cell_type": "code",
   "execution_count": 84,
   "metadata": {
    "lines_to_next_cell": 2
   },
   "outputs": [
    {
     "data": {
      "text/plain": [
       "[-1,\n",
       " -0.75,\n",
       " -0.5,\n",
       " -0.25,\n",
       " 0,\n",
       " 0.25,\n",
       " 0.5,\n",
       " 0.75,\n",
       " 1,\n",
       " -1,\n",
       " -0.75,\n",
       " -0.5,\n",
       " -0.25,\n",
       " 0,\n",
       " 0.25,\n",
       " 0.5,\n",
       " 0.75,\n",
       " 1,\n",
       " -1,\n",
       " -0.75,\n",
       " -0.5,\n",
       " -0.25,\n",
       " 0,\n",
       " 0.25,\n",
       " 0.5,\n",
       " 0.75,\n",
       " 1,\n",
       " -1,\n",
       " -0.75,\n",
       " -0.5,\n",
       " -0.25,\n",
       " 0,\n",
       " 0.25,\n",
       " 0.5,\n",
       " 0.75,\n",
       " 1,\n",
       " -1,\n",
       " -0.75,\n",
       " -0.5,\n",
       " -0.25,\n",
       " 0,\n",
       " 0.25,\n",
       " 0.5,\n",
       " 0.75,\n",
       " 1,\n",
       " -1,\n",
       " -0.75,\n",
       " -0.5,\n",
       " -0.25,\n",
       " 0,\n",
       " 0.25,\n",
       " 0.5,\n",
       " 0.75,\n",
       " 1,\n",
       " -1,\n",
       " -0.75,\n",
       " -0.5,\n",
       " -0.25,\n",
       " 0,\n",
       " 0.25,\n",
       " 0.5,\n",
       " 0.75,\n",
       " 1,\n",
       " -1,\n",
       " -0.75,\n",
       " -0.5,\n",
       " -0.25,\n",
       " 0,\n",
       " 0.25,\n",
       " 0.5,\n",
       " 0.75,\n",
       " 1,\n",
       " -1,\n",
       " -0.75,\n",
       " -0.5,\n",
       " -0.25,\n",
       " 0,\n",
       " 0.25,\n",
       " 0.5,\n",
       " 0.75,\n",
       " 1,\n",
       " -1,\n",
       " -0.75,\n",
       " -0.5,\n",
       " -0.25,\n",
       " 0,\n",
       " 0.25,\n",
       " 0.5,\n",
       " 0.75,\n",
       " 1,\n",
       " -1,\n",
       " -0.75,\n",
       " -0.5,\n",
       " -0.25,\n",
       " 0,\n",
       " 0.25,\n",
       " 0.5,\n",
       " 0.75,\n",
       " 1,\n",
       " -1,\n",
       " -0.75,\n",
       " -0.5,\n",
       " -0.25,\n",
       " 0,\n",
       " 0.25,\n",
       " 0.5,\n",
       " 0.75,\n",
       " 1,\n",
       " -1,\n",
       " -0.75,\n",
       " -0.5,\n",
       " -0.25,\n",
       " 0,\n",
       " 0.25,\n",
       " 0.5,\n",
       " 0.75,\n",
       " 1,\n",
       " -1,\n",
       " -0.75,\n",
       " -0.5,\n",
       " -0.25,\n",
       " 0,\n",
       " 0.25,\n",
       " 0.5,\n",
       " 0.75,\n",
       " 1,\n",
       " -1,\n",
       " -0.75,\n",
       " -0.5,\n",
       " -0.25,\n",
       " 0,\n",
       " 0.25,\n",
       " 0.5,\n",
       " 0.75,\n",
       " 1,\n",
       " -1,\n",
       " -0.75,\n",
       " -0.5,\n",
       " -0.25,\n",
       " 0,\n",
       " 0.25,\n",
       " 0.5,\n",
       " 0.75,\n",
       " 1,\n",
       " -1,\n",
       " -0.75,\n",
       " -0.5,\n",
       " -0.25,\n",
       " 0,\n",
       " 0.25,\n",
       " 0.5,\n",
       " 0.75,\n",
       " 1,\n",
       " -1,\n",
       " -0.75,\n",
       " -0.5,\n",
       " -0.25,\n",
       " 0,\n",
       " 0.25,\n",
       " 0.5,\n",
       " 0.75,\n",
       " 1,\n",
       " -1,\n",
       " -0.75,\n",
       " -0.5,\n",
       " -0.25,\n",
       " 0,\n",
       " 0.25,\n",
       " 0.5,\n",
       " 0.75,\n",
       " 1,\n",
       " -1,\n",
       " -0.75,\n",
       " -0.5,\n",
       " -0.25,\n",
       " 0,\n",
       " 0.25,\n",
       " 0.5,\n",
       " 0.75,\n",
       " 1,\n",
       " -1,\n",
       " -0.75,\n",
       " -0.5,\n",
       " -0.25,\n",
       " 0,\n",
       " 0.25,\n",
       " 0.5,\n",
       " 0.75,\n",
       " 1,\n",
       " -1,\n",
       " -0.75,\n",
       " -0.5,\n",
       " -0.25,\n",
       " 0,\n",
       " 0.25,\n",
       " 0.5,\n",
       " 0.75,\n",
       " 1,\n",
       " -1,\n",
       " -0.75,\n",
       " -0.5,\n",
       " -0.25,\n",
       " 0,\n",
       " 0.25,\n",
       " 0.5,\n",
       " 0.75,\n",
       " 1,\n",
       " -1,\n",
       " -0.75,\n",
       " -0.5,\n",
       " -0.25,\n",
       " 0,\n",
       " 0.25,\n",
       " 0.5,\n",
       " 0.75,\n",
       " 1,\n",
       " -1,\n",
       " -0.75,\n",
       " -0.5,\n",
       " -0.25,\n",
       " 0,\n",
       " 0.25,\n",
       " 0.5,\n",
       " 0.75,\n",
       " 1,\n",
       " -1,\n",
       " -0.75,\n",
       " -0.5,\n",
       " -0.25,\n",
       " 0,\n",
       " 0.25,\n",
       " 0.5,\n",
       " 0.75,\n",
       " 1,\n",
       " -1,\n",
       " -0.75,\n",
       " -0.5,\n",
       " -0.25,\n",
       " 0,\n",
       " 0.25,\n",
       " 0.5,\n",
       " 0.75,\n",
       " 1,\n",
       " -1,\n",
       " -0.75,\n",
       " -0.5,\n",
       " -0.25,\n",
       " 0,\n",
       " 0.25,\n",
       " 0.5,\n",
       " 0.75,\n",
       " 1,\n",
       " -1,\n",
       " -0.75,\n",
       " -0.5,\n",
       " -0.25,\n",
       " 0,\n",
       " 0.25,\n",
       " 0.5,\n",
       " 0.75,\n",
       " 1,\n",
       " -1,\n",
       " -0.75,\n",
       " -0.5,\n",
       " -0.25,\n",
       " 0,\n",
       " 0.25,\n",
       " 0.5,\n",
       " 0.75,\n",
       " 1,\n",
       " -1,\n",
       " -0.75,\n",
       " -0.5,\n",
       " -0.25,\n",
       " 0,\n",
       " 0.25,\n",
       " 0.5,\n",
       " 0.75,\n",
       " 1,\n",
       " -1,\n",
       " -0.75,\n",
       " -0.5,\n",
       " -0.25,\n",
       " 0,\n",
       " 0.25,\n",
       " 0.5,\n",
       " 0.75,\n",
       " 1,\n",
       " -1,\n",
       " -0.75,\n",
       " -0.5,\n",
       " -0.25,\n",
       " 0,\n",
       " 0.25,\n",
       " 0.5,\n",
       " 0.75,\n",
       " 1,\n",
       " -1,\n",
       " -0.75,\n",
       " -0.5,\n",
       " -0.25,\n",
       " 0,\n",
       " 0.25,\n",
       " 0.5,\n",
       " 0.75,\n",
       " 1,\n",
       " -1,\n",
       " -0.75,\n",
       " -0.5,\n",
       " -0.25,\n",
       " 0,\n",
       " 0.25,\n",
       " 0.5,\n",
       " 0.75,\n",
       " 1,\n",
       " -1,\n",
       " -0.75,\n",
       " -0.5,\n",
       " -0.25,\n",
       " 0,\n",
       " 0.25,\n",
       " 0.5,\n",
       " 0.75,\n",
       " 1,\n",
       " -1,\n",
       " -0.75,\n",
       " -0.5,\n",
       " -0.25,\n",
       " 0,\n",
       " 0.25,\n",
       " 0.5,\n",
       " 0.75,\n",
       " 1,\n",
       " -1,\n",
       " -0.75,\n",
       " -0.5,\n",
       " -0.25,\n",
       " 0,\n",
       " 0.25,\n",
       " 0.5,\n",
       " 0.75,\n",
       " 1,\n",
       " -1,\n",
       " -0.75,\n",
       " -0.5,\n",
       " -0.25,\n",
       " 0,\n",
       " 0.25,\n",
       " 0.5,\n",
       " 0.75,\n",
       " 1,\n",
       " -1,\n",
       " -0.75,\n",
       " -0.5,\n",
       " -0.25,\n",
       " 0,\n",
       " 0.25,\n",
       " 0.5,\n",
       " 0.75,\n",
       " 1,\n",
       " -1,\n",
       " -0.75,\n",
       " -0.5,\n",
       " -0.25,\n",
       " 0,\n",
       " 0.25,\n",
       " 0.5,\n",
       " 0.75,\n",
       " 1,\n",
       " -1,\n",
       " -0.75,\n",
       " -0.5,\n",
       " -0.25,\n",
       " 0,\n",
       " 0.25,\n",
       " 0.5,\n",
       " 0.75,\n",
       " 1,\n",
       " -1,\n",
       " -0.75,\n",
       " -0.5,\n",
       " -0.25,\n",
       " 0,\n",
       " 0.25,\n",
       " 0.5,\n",
       " 0.75,\n",
       " 1,\n",
       " -1,\n",
       " -0.75,\n",
       " -0.5,\n",
       " -0.25,\n",
       " 0,\n",
       " 0.25,\n",
       " 0.5,\n",
       " 0.75,\n",
       " 1,\n",
       " -1,\n",
       " -0.75,\n",
       " -0.5,\n",
       " -0.25,\n",
       " 0,\n",
       " 0.25,\n",
       " 0.5,\n",
       " 0.75,\n",
       " 1,\n",
       " -1,\n",
       " -0.75,\n",
       " -0.5,\n",
       " -0.25,\n",
       " 0,\n",
       " 0.25,\n",
       " 0.5,\n",
       " 0.75,\n",
       " 1,\n",
       " -1,\n",
       " -0.75,\n",
       " -0.5,\n",
       " -0.25,\n",
       " 0,\n",
       " 0.25,\n",
       " 0.5,\n",
       " 0.75,\n",
       " 1,\n",
       " -1,\n",
       " -0.75,\n",
       " -0.5,\n",
       " -0.25,\n",
       " 0,\n",
       " 0.25,\n",
       " 0.5,\n",
       " 0.75,\n",
       " 1,\n",
       " -1,\n",
       " -0.75,\n",
       " -0.5,\n",
       " -0.25,\n",
       " 0,\n",
       " 0.25,\n",
       " 0.5,\n",
       " 0.75,\n",
       " 1,\n",
       " -1,\n",
       " -0.75,\n",
       " -0.5,\n",
       " -0.25,\n",
       " 0,\n",
       " 0.25,\n",
       " 0.5,\n",
       " 0.75,\n",
       " 1,\n",
       " -1,\n",
       " -0.75,\n",
       " -0.5,\n",
       " -0.25,\n",
       " 0,\n",
       " 0.25,\n",
       " 0.5,\n",
       " 0.75,\n",
       " 1,\n",
       " -1,\n",
       " -0.75,\n",
       " -0.5,\n",
       " -0.25,\n",
       " 0,\n",
       " 0.25,\n",
       " 0.5,\n",
       " 0.75,\n",
       " 1,\n",
       " -1,\n",
       " -0.75,\n",
       " -0.5,\n",
       " -0.25,\n",
       " 0,\n",
       " 0.25,\n",
       " 0.5,\n",
       " 0.75,\n",
       " 1,\n",
       " -1,\n",
       " -0.75,\n",
       " -0.5,\n",
       " -0.25,\n",
       " 0,\n",
       " 0.25,\n",
       " 0.5,\n",
       " 0.75,\n",
       " 1,\n",
       " -1,\n",
       " -0.75,\n",
       " -0.5,\n",
       " -0.25,\n",
       " 0,\n",
       " 0.25,\n",
       " 0.5,\n",
       " 0.75,\n",
       " 1,\n",
       " -1,\n",
       " -0.75,\n",
       " -0.5,\n",
       " -0.25,\n",
       " 0,\n",
       " 0.25,\n",
       " 0.5,\n",
       " 0.75,\n",
       " 1,\n",
       " -1,\n",
       " -0.75,\n",
       " -0.5,\n",
       " -0.25,\n",
       " 0,\n",
       " 0.25,\n",
       " 0.5,\n",
       " 0.75,\n",
       " 1,\n",
       " -1,\n",
       " -0.75,\n",
       " -0.5,\n",
       " -0.25,\n",
       " 0,\n",
       " 0.25,\n",
       " 0.5,\n",
       " 0.75,\n",
       " 1,\n",
       " -1,\n",
       " -0.75,\n",
       " -0.5,\n",
       " -0.25,\n",
       " 0,\n",
       " 0.25,\n",
       " 0.5,\n",
       " 0.75,\n",
       " 1,\n",
       " -1,\n",
       " -0.75,\n",
       " -0.5,\n",
       " -0.25,\n",
       " 0,\n",
       " 0.25,\n",
       " 0.5,\n",
       " 0.75,\n",
       " 1,\n",
       " -1,\n",
       " -0.75,\n",
       " -0.5,\n",
       " -0.25,\n",
       " 0,\n",
       " 0.25,\n",
       " 0.5,\n",
       " 0.75,\n",
       " 1,\n",
       " -1,\n",
       " -0.75,\n",
       " -0.5,\n",
       " -0.25,\n",
       " 0,\n",
       " 0.25,\n",
       " 0.5,\n",
       " 0.75,\n",
       " 1,\n",
       " -1,\n",
       " -0.75,\n",
       " -0.5,\n",
       " -0.25,\n",
       " 0,\n",
       " 0.25,\n",
       " 0.5,\n",
       " 0.75,\n",
       " 1,\n",
       " -1,\n",
       " -0.75,\n",
       " -0.5,\n",
       " -0.25,\n",
       " 0,\n",
       " 0.25,\n",
       " 0.5,\n",
       " 0.75,\n",
       " 1,\n",
       " -1,\n",
       " -0.75,\n",
       " -0.5,\n",
       " -0.25,\n",
       " 0,\n",
       " 0.25,\n",
       " 0.5,\n",
       " 0.75,\n",
       " 1,\n",
       " -1,\n",
       " -0.75,\n",
       " -0.5,\n",
       " -0.25,\n",
       " 0,\n",
       " 0.25,\n",
       " 0.5,\n",
       " 0.75,\n",
       " 1,\n",
       " -1,\n",
       " -0.75,\n",
       " -0.5,\n",
       " -0.25,\n",
       " 0,\n",
       " 0.25,\n",
       " 0.5,\n",
       " 0.75,\n",
       " 1,\n",
       " -1,\n",
       " -0.75,\n",
       " -0.5,\n",
       " -0.25,\n",
       " 0,\n",
       " 0.25,\n",
       " 0.5,\n",
       " 0.75,\n",
       " 1,\n",
       " -1,\n",
       " -0.75,\n",
       " -0.5,\n",
       " -0.25,\n",
       " 0,\n",
       " 0.25,\n",
       " 0.5,\n",
       " 0.75,\n",
       " 1,\n",
       " -1,\n",
       " -0.75,\n",
       " -0.5,\n",
       " -0.25,\n",
       " 0,\n",
       " 0.25,\n",
       " 0.5,\n",
       " 0.75,\n",
       " 1,\n",
       " -1,\n",
       " -0.75,\n",
       " -0.5,\n",
       " -0.25,\n",
       " 0,\n",
       " 0.25,\n",
       " 0.5,\n",
       " 0.75,\n",
       " 1,\n",
       " -1,\n",
       " -0.75,\n",
       " -0.5,\n",
       " -0.25,\n",
       " 0,\n",
       " 0.25,\n",
       " 0.5,\n",
       " 0.75,\n",
       " 1,\n",
       " -1,\n",
       " -0.75,\n",
       " -0.5,\n",
       " -0.25,\n",
       " 0,\n",
       " 0.25,\n",
       " 0.5,\n",
       " 0.75,\n",
       " 1,\n",
       " -1,\n",
       " -0.75,\n",
       " -0.5,\n",
       " -0.25,\n",
       " 0,\n",
       " 0.25,\n",
       " 0.5,\n",
       " 0.75,\n",
       " 1,\n",
       " -1,\n",
       " -0.75,\n",
       " -0.5,\n",
       " -0.25,\n",
       " 0,\n",
       " 0.25,\n",
       " 0.5,\n",
       " 0.75,\n",
       " 1,\n",
       " -1,\n",
       " -0.75,\n",
       " -0.5,\n",
       " -0.25,\n",
       " 0,\n",
       " 0.25,\n",
       " 0.5,\n",
       " 0.75,\n",
       " 1,\n",
       " -1,\n",
       " -0.75,\n",
       " -0.5,\n",
       " -0.25,\n",
       " 0,\n",
       " 0.25,\n",
       " 0.5,\n",
       " 0.75,\n",
       " 1,\n",
       " -1,\n",
       " -0.75,\n",
       " -0.5,\n",
       " -0.25,\n",
       " 0,\n",
       " 0.25,\n",
       " 0.5,\n",
       " 0.75,\n",
       " 1,\n",
       " -1,\n",
       " -0.75,\n",
       " -0.5,\n",
       " -0.25,\n",
       " 0,\n",
       " 0.25,\n",
       " 0.5,\n",
       " 0.75,\n",
       " 1,\n",
       " -1,\n",
       " -0.75,\n",
       " -0.5,\n",
       " -0.25,\n",
       " 0,\n",
       " 0.25,\n",
       " 0.5,\n",
       " 0.75,\n",
       " 1,\n",
       " -1,\n",
       " -0.75,\n",
       " -0.5,\n",
       " -0.25,\n",
       " 0,\n",
       " 0.25,\n",
       " 0.5,\n",
       " 0.75,\n",
       " 1,\n",
       " -1,\n",
       " -0.75,\n",
       " -0.5,\n",
       " -0.25,\n",
       " 0,\n",
       " 0.25,\n",
       " 0.5,\n",
       " 0.75,\n",
       " 1,\n",
       " -1,\n",
       " -0.75,\n",
       " -0.5,\n",
       " -0.25,\n",
       " 0,\n",
       " 0.25,\n",
       " 0.5,\n",
       " 0.75,\n",
       " 1,\n",
       " -1,\n",
       " -0.75,\n",
       " -0.5,\n",
       " -0.25,\n",
       " 0,\n",
       " 0.25,\n",
       " 0.5,\n",
       " 0.75,\n",
       " 1,\n",
       " -1,\n",
       " -0.75,\n",
       " -0.5,\n",
       " -0.25,\n",
       " 0,\n",
       " 0.25,\n",
       " 0.5,\n",
       " 0.75,\n",
       " 1,\n",
       " -1,\n",
       " -0.75,\n",
       " -0.5,\n",
       " -0.25,\n",
       " 0,\n",
       " 0.25,\n",
       " 0.5,\n",
       " 0.75,\n",
       " 1,\n",
       " -1,\n",
       " -0.75,\n",
       " -0.5,\n",
       " -0.25,\n",
       " 0,\n",
       " 0.25,\n",
       " 0.5,\n",
       " 0.75,\n",
       " 1,\n",
       " -1,\n",
       " -0.75,\n",
       " -0.5,\n",
       " -0.25,\n",
       " 0,\n",
       " 0.25,\n",
       " 0.5,\n",
       " 0.75,\n",
       " 1,\n",
       " -1,\n",
       " -0.75,\n",
       " -0.5,\n",
       " -0.25,\n",
       " 0,\n",
       " 0.25,\n",
       " 0.5,\n",
       " 0.75,\n",
       " 1,\n",
       " -1,\n",
       " -0.75,\n",
       " -0.5,\n",
       " -0.25,\n",
       " 0,\n",
       " 0.25,\n",
       " 0.5,\n",
       " 0.75,\n",
       " 1,\n",
       " -1,\n",
       " -0.75,\n",
       " -0.5,\n",
       " -0.25,\n",
       " 0,\n",
       " 0.25,\n",
       " 0.5,\n",
       " 0.75,\n",
       " 1,\n",
       " -1,\n",
       " -0.75,\n",
       " -0.5,\n",
       " -0.25,\n",
       " 0,\n",
       " 0.25,\n",
       " 0.5,\n",
       " 0.75,\n",
       " 1,\n",
       " -1,\n",
       " -0.75,\n",
       " -0.5,\n",
       " -0.25,\n",
       " 0,\n",
       " 0.25,\n",
       " 0.5,\n",
       " 0.75,\n",
       " 1,\n",
       " -1,\n",
       " -0.75,\n",
       " -0.5,\n",
       " -0.25,\n",
       " 0,\n",
       " 0.25,\n",
       " 0.5,\n",
       " 0.75,\n",
       " 1,\n",
       " -1,\n",
       " -0.75,\n",
       " -0.5,\n",
       " -0.25,\n",
       " 0,\n",
       " 0.25,\n",
       " 0.5,\n",
       " 0.75,\n",
       " 1,\n",
       " -1,\n",
       " -0.75,\n",
       " -0.5,\n",
       " -0.25,\n",
       " 0,\n",
       " 0.25,\n",
       " 0.5,\n",
       " 0.75,\n",
       " 1,\n",
       " -1,\n",
       " -0.75,\n",
       " -0.5,\n",
       " -0.25,\n",
       " 0,\n",
       " 0.25,\n",
       " 0.5,\n",
       " 0.75,\n",
       " 1,\n",
       " -1,\n",
       " -0.75,\n",
       " -0.5,\n",
       " -0.25,\n",
       " 0,\n",
       " 0.25,\n",
       " 0.5,\n",
       " 0.75,\n",
       " 1,\n",
       " -1,\n",
       " -0.75,\n",
       " -0.5,\n",
       " -0.25,\n",
       " 0,\n",
       " 0.25,\n",
       " 0.5,\n",
       " 0.75,\n",
       " 1,\n",
       " -1,\n",
       " -0.75,\n",
       " -0.5,\n",
       " -0.25,\n",
       " 0,\n",
       " 0.25,\n",
       " 0.5,\n",
       " 0.75,\n",
       " 1]"
      ]
     },
     "execution_count": 84,
     "metadata": {},
     "output_type": "execute_result"
    }
   ],
   "source": [
    "clean_bins * 100"
   ]
  },
  {
   "cell_type": "markdown",
   "metadata": {},
   "source": [
    "### What about travel influencers?"
   ]
  },
  {
   "cell_type": "code",
   "execution_count": 53,
   "metadata": {},
   "outputs": [],
   "source": [
    "plot_df = pd.DataFrame(df_posts[df_posts.url.isin(df_info[df_info.is_travel == True].url.values)].groupby([\"date_year_month2\"]).size())"
   ]
  },
  {
   "cell_type": "code",
   "execution_count": 54,
   "metadata": {},
   "outputs": [
    {
     "ename": "NameError",
     "evalue": "name 'plot_two_bars' is not defined",
     "output_type": "error",
     "traceback": [
      "\u001b[1;31m---------------------------------------------------------------------------\u001b[0m",
      "\u001b[1;31mNameError\u001b[0m                                 Traceback (most recent call last)",
      "\u001b[1;32m<ipython-input-54-c3f70994a6ec>\u001b[0m in \u001b[0;36m<module>\u001b[1;34m\u001b[0m\n\u001b[1;32m----> 1\u001b[1;33m \u001b[0mplot_two_bars\u001b[0m\u001b[1;33m(\u001b[0m\u001b[0mplot_df\u001b[0m\u001b[1;33m)\u001b[0m\u001b[1;33m\u001b[0m\u001b[1;33m\u001b[0m\u001b[0m\n\u001b[0m",
      "\u001b[1;31mNameError\u001b[0m: name 'plot_two_bars' is not defined"
     ]
    }
   ],
   "source": [
    "plot_two_bars(plot_df)"
   ]
  },
  {
   "cell_type": "code",
   "execution_count": 26,
   "metadata": {},
   "outputs": [
    {
     "data": {
      "text/plain": [
       "(-0.10798816568047337, -0.033182503770739065, -0.04484304932735426)"
      ]
     },
     "execution_count": 26,
     "metadata": {},
     "output_type": "execute_result"
    }
   ],
   "source": [
    "get_percentages(plot_df)"
   ]
  },
  {
   "cell_type": "code",
   "execution_count": 27,
   "metadata": {},
   "outputs": [
    {
     "data": {
      "text/plain": [
       "-0.062250996015936255"
      ]
     },
     "execution_count": 27,
     "metadata": {},
     "output_type": "execute_result"
    }
   ],
   "source": [
    "get_total_percentage(plot_df)"
   ]
  },
  {
   "cell_type": "markdown",
   "metadata": {},
   "source": [
    "### Influencers that are not travel"
   ]
  },
  {
   "cell_type": "code",
   "execution_count": 29,
   "metadata": {},
   "outputs": [
    {
     "data": {
      "image/png": "[encoded data removed]",
      "text/plain": [
       "<Figure size 576x360 with 1 Axes>"
      ]
     },
     "metadata": {},
     "output_type": "display_data"
    }
   ],
   "source": [
    "plot_df = pd.DataFrame(df_posts[df_posts.url.isin(df_info[df_info.is_travel == False].url.values)].groupby([\"date_year_month2\"]).size())\n",
    "plot_two_bars(plot_df)"
   ]
  },
  {
   "cell_type": "code",
   "execution_count": 30,
   "metadata": {},
   "outputs": [
    {
     "data": {
      "text/plain": [
       "(-0.043373493975903614, -0.267529665587918, -0.12335329341317365)"
      ]
     },
     "execution_count": 30,
     "metadata": {},
     "output_type": "execute_result"
    }
   ],
   "source": [
    "get_percentages(plot_df)"
   ]
  },
  {
   "cell_type": "code",
   "execution_count": 31,
   "metadata": {},
   "outputs": [
    {
     "data": {
      "text/plain": [
       "-0.14930555555555555"
      ]
     },
     "execution_count": 31,
     "metadata": {},
     "output_type": "execute_result"
    }
   ],
   "source": [
    "get_total_percentage(plot_df)"
   ]
  },
  {
   "cell_type": "code",
   "execution_count": 33,
   "metadata": {
    "scrolled": true
   },
   "outputs": [
    {
     "data": {
      "text/plain": [
       "array(['https://www.instagram.com/annamariadamm',\n",
       "       'https://www.instagram.com/ibdansch',\n",
       "       'https://www.instagram.com/jileileen',\n",
       "       'https://www.instagram.com/julienco_',\n",
       "       'https://www.instagram.com/laserluca'], dtype=object)"
      ]
     },
     "execution_count": 33,
     "metadata": {},
     "output_type": "execute_result"
    }
   ],
   "source": [
    "#Travel but not fashion\n",
    "#np.setdiff1d(df_info[df_info.is_travel == True].url.values,df_info[df_info.is_fashion == True].url.values)"
   ]
  },
  {
   "cell_type": "markdown",
   "metadata": {},
   "source": [
    "# Theory 2: Behavior adoption prevents post volume decrease"
   ]
  },
  {
   "cell_type": "markdown",
   "metadata": {},
   "source": [
    "### Influencers without topic shift"
   ]
  },
  {
   "cell_type": "code",
   "execution_count": 34,
   "metadata": {},
   "outputs": [
    {
     "data": {
      "text/plain": [
       "-0.15584854631507775"
      ]
     },
     "execution_count": 34,
     "metadata": {},
     "output_type": "execute_result"
    }
   ],
   "source": [
    "plot_df = pd.DataFrame(df_posts[df_posts.url.isin(df_info[df_info.has_topic_shift == False].url.values)].groupby([\"date_year_month2\"]).size())\n",
    "#plot_two_bars(plot_df)\n",
    "get_total_percentage(plot_df)"
   ]
  },
  {
   "cell_type": "markdown",
   "metadata": {},
   "source": [
    "### Influencers with topic shift"
   ]
  },
  {
   "cell_type": "code",
   "execution_count": 35,
   "metadata": {},
   "outputs": [
    {
     "data": {
      "text/plain": [
       "-0.031059683313032885"
      ]
     },
     "execution_count": 35,
     "metadata": {},
     "output_type": "execute_result"
    }
   ],
   "source": [
    "plot_df = pd.DataFrame(df_posts[df_posts.url.isin(df_info[df_info.has_topic_shift == True].url.values)].groupby([\"date_year_month2\"]).size())\n",
    "get_total_percentage(plot_df)"
   ]
  },
  {
   "cell_type": "code",
   "execution_count": 37,
   "metadata": {},
   "outputs": [
    {
     "data": {
      "text/plain": [
       "0.3037974683544304"
      ]
     },
     "execution_count": 37,
     "metadata": {},
     "output_type": "execute_result"
    }
   ],
   "source": [
    "#Share of influencers with topic shift\n",
    "len(df_info[df_info.has_topic_shift == True])/len(df_info)"
   ]
  },
  {
   "cell_type": "code",
   "execution_count": 38,
   "metadata": {},
   "outputs": [
    {
     "data": {
      "text/plain": [
       "0.6896551724137931"
      ]
     },
     "execution_count": 38,
     "metadata": {},
     "output_type": "execute_result"
    }
   ],
   "source": [
    "len(np.intersect1d(df_info[df_info.is_travel == True].url.values,df_info[df_info.has_topic_shift == True].url.values))/len(df_info[df_info.is_travel == True])"
   ]
  },
  {
   "cell_type": "code",
   "execution_count": 39,
   "metadata": {},
   "outputs": [
    {
     "data": {
      "text/plain": [
       "0.08"
      ]
     },
     "execution_count": 39,
     "metadata": {},
     "output_type": "execute_result"
    }
   ],
   "source": [
    "len(np.intersect1d(df_info[df_info.is_travel == False].url.values,df_info[df_info.has_topic_shift == True].url.values))/len(df_info[df_info.is_travel == False])"
   ]
  },
  {
   "cell_type": "code",
   "execution_count": 40,
   "metadata": {},
   "outputs": [
    {
     "data": {
      "text/plain": [
       "29"
      ]
     },
     "execution_count": 40,
     "metadata": {},
     "output_type": "execute_result"
    }
   ],
   "source": [
    "len(df_info[df_info.is_travel == True])"
   ]
  },
  {
   "cell_type": "markdown",
   "metadata": {},
   "source": [
    "## One Influencer"
   ]
  },
  {
   "cell_type": "code",
   "execution_count": 42,
   "metadata": {},
   "outputs": [
    {
     "data": {
      "text/plain": [
       "(0.3181818181818182, 0.35294117647058826, 0.42105263157894735)"
      ]
     },
     "execution_count": 42,
     "metadata": {},
     "output_type": "execute_result"
    }
   ],
   "source": [
    "plot_df = pd.DataFrame(df_posts[df_posts.url.isin([\"https://www.instagram.com/pamela_rf\"])].groupby([\"date_year_month2\"]).size())\n",
    "get_percentages(plot_df)"
   ]
  },
  {
   "cell_type": "code",
   "execution_count": 43,
   "metadata": {},
   "outputs": [
    {
     "data": {
      "image/png": "[encoded data removed]",
      "text/plain": [
       "<Figure size 576x360 with 1 Axes>"
      ]
     },
     "metadata": {},
     "output_type": "display_data"
    }
   ],
   "source": [
    "plot_two_bars(plot_df)"
   ]
  },
  {
   "cell_type": "code",
   "execution_count": null,
   "metadata": {
    "scrolled": true
   },
   "outputs": [],
   "source": [
    "likes = list(filter(lambda x : x != 'Error', df_posts[df_posts.url.isin([\"https://www.instagram.com/riccardosimonetti\"])].likes.values))\n",
    "likes.reverse()\n",
    "likes = list(map(int, likes))\n",
    "likes = pd.DataFrame(likes)\n",
    "plt.figure(figsize=(8,3))\n",
    "plt.plot(likes.index,likes[0])"
   ]
  },
  {
   "cell_type": "code",
   "execution_count": null,
   "metadata": {},
   "outputs": [],
   "source": [
    "for x in df_posts.url.unique():\n",
    "    plot_df = pd.DataFrame(df_posts[df_posts.url.isin([x])].groupby([\"date_year_month2\"]).size())\n",
    "    print(x)\n",
    "    print(get_total_percentage2(plot_df))\n",
    "    print(\"\\n\")"
   ]
  },
  {
   "cell_type": "code",
   "execution_count": null,
   "metadata": {},
   "outputs": [],
   "source": [
    "df_info.has_cv_19_post.value_counts()"
   ]
  },
  {
   "cell_type": "code",
   "execution_count": null,
   "metadata": {},
   "outputs": [],
   "source": []
  },
  {
   "cell_type": "code",
   "execution_count": null,
   "metadata": {},
   "outputs": [],
   "source": [
    "df_info.has_blm_post.value_counts()"
   ]
  },
  {
   "cell_type": "code",
   "execution_count": null,
   "metadata": {},
   "outputs": [],
   "source": []
  },
  {
   "cell_type": "markdown",
   "metadata": {},
   "source": [
    "## Ad volume"
   ]
  },
  {
   "cell_type": "code",
   "execution_count": 33,
   "metadata": {},
   "outputs": [],
   "source": [
    "ad_keywords = [\"Werbung\",\"werbung\",\"WERBUNG\",\"Anzeige\",\"anzeige\",\"ANZEIGE\",\" #ad\", \"advertisement\", \"sponsored\", \"gesponsort\", \"promotion\", \"Promotion\"]"
   ]
  },
  {
   "cell_type": "code",
   "execution_count": 34,
   "metadata": {
    "lines_to_next_cell": 2
   },
   "outputs": [
    {
     "data": {
      "text/plain": [
       "True"
      ]
     },
     "execution_count": 34,
     "metadata": {},
     "output_type": "execute_result"
    }
   ],
   "source": [
    "any(word in 'some one long two phrase promotionthree' for word in ad_keywords)"
   ]
  },
  {
   "cell_type": "code",
   "execution_count": 35,
   "metadata": {},
   "outputs": [],
   "source": [
    "df_posts[\"is_ad\"] = df_posts.text.apply(lambda x: any(word in x for word in ad_keywords))"
   ]
  },
  {
   "cell_type": "code",
   "execution_count": 48,
   "metadata": {},
   "outputs": [],
   "source": [
    "df_posts = df_posts[df_posts.date_year_month2 > \"2019-02\"]"
   ]
  },
  {
   "cell_type": "code",
   "execution_count": 50,
   "metadata": {},
   "outputs": [],
   "source": [
    "df_ads = pd.DataFrame(df_posts.groupby([\"date_year_month2\",\"is_ad\"]).size())"
   ]
  },
  {
   "cell_type": "code",
   "execution_count": 53,
   "metadata": {},
   "outputs": [],
   "source": [
    "df_ads = df_ads.reset_index()"
   ]
  },
  {
   "cell_type": "code",
   "execution_count": 66,
   "metadata": {},
   "outputs": [
    {
     "data": {
      "text/html": [
       "<div>\n",
       "<style scoped>\n",
       "    .dataframe tbody tr th:only-of-type {\n",
       "        vertical-align: middle;\n",
       "    }\n",
       "\n",
       "    .dataframe tbody tr th {\n",
       "        vertical-align: top;\n",
       "    }\n",
       "\n",
       "    .dataframe thead th {\n",
       "        text-align: right;\n",
       "    }\n",
       "</style>\n",
       "<table border=\"1\" class=\"dataframe\">\n",
       "  <thead>\n",
       "    <tr style=\"text-align: right;\">\n",
       "      <th></th>\n",
       "      <th>date_year_month2</th>\n",
       "      <th>is_ad</th>\n",
       "      <th>0</th>\n",
       "    </tr>\n",
       "  </thead>\n",
       "  <tbody>\n",
       "    <tr>\n",
       "      <th>0</th>\n",
       "      <td>2019-03</td>\n",
       "      <td>False</td>\n",
       "      <td>1036</td>\n",
       "    </tr>\n",
       "    <tr>\n",
       "      <th>1</th>\n",
       "      <td>2019-03</td>\n",
       "      <td>True</td>\n",
       "      <td>470</td>\n",
       "    </tr>\n",
       "    <tr>\n",
       "      <th>2</th>\n",
       "      <td>2019-04</td>\n",
       "      <td>False</td>\n",
       "      <td>1095</td>\n",
       "    </tr>\n",
       "    <tr>\n",
       "      <th>3</th>\n",
       "      <td>2019-04</td>\n",
       "      <td>True</td>\n",
       "      <td>495</td>\n",
       "    </tr>\n",
       "  </tbody>\n",
       "</table>\n",
       "</div>"
      ],
      "text/plain": [
       "  date_year_month2  is_ad     0\n",
       "0          2019-03  False  1036\n",
       "1          2019-03   True   470\n",
       "2          2019-04  False  1095\n",
       "3          2019-04   True   495"
      ]
     },
     "execution_count": 66,
     "metadata": {},
     "output_type": "execute_result"
    }
   ],
   "source": [
    "df_ads.head(4)"
   ]
  },
  {
   "cell_type": "code",
   "execution_count": 63,
   "metadata": {},
   "outputs": [
    {
     "data": {
      "text/plain": [
       "470"
      ]
     },
     "execution_count": 63,
     "metadata": {},
     "output_type": "execute_result"
    }
   ],
   "source": [
    "df_ads[df_ads.date_year_month2 == '2019-03'][df_ads[df_ads.date_year_month2 == '2019-03'].is_ad == True][0].values[0]"
   ]
  },
  {
   "cell_type": "code",
   "execution_count": 69,
   "metadata": {},
   "outputs": [
    {
     "data": {
      "text/plain": [
       "1506"
      ]
     },
     "execution_count": 69,
     "metadata": {},
     "output_type": "execute_result"
    }
   ],
   "source": [
    "df_ads.groupby(\"date_year_month2\")[0].sum()[\"2019-03\"]"
   ]
  },
  {
   "cell_type": "code",
   "execution_count": 75,
   "metadata": {},
   "outputs": [],
   "source": [
    "share_of_ads = []\n",
    "for month in df_ads.date_year_month2.unique():\n",
    "    share_of_ads.append(df_ads[df_ads.date_year_month2 == month][df_ads[df_ads.date_year_month2 == month].is_ad == True][0].values[0]/df_ads.groupby(\"date_year_month2\")[0].sum()[month])"
   ]
  },
  {
   "cell_type": "code",
   "execution_count": 80,
   "metadata": {},
   "outputs": [],
   "source": [
    "df_ads_aggregated = pd.DataFrame(df_posts.groupby([\"date_year_month2\"]).size())"
   ]
  },
  {
   "cell_type": "code",
   "execution_count": 82,
   "metadata": {},
   "outputs": [],
   "source": [
    "df_ads_aggregated[\"share_of_ads\"] = share_of_ads"
   ]
  },
  {
   "cell_type": "code",
   "execution_count": 83,
   "metadata": {},
   "outputs": [],
   "source": [
    "total_ads = []\n",
    "for month in df_ads.date_year_month2.unique():\n",
    "    total_ads.append(df_ads[df_ads.date_year_month2 == month][df_ads[df_ads.date_year_month2 == month].is_ad == True][0].values[0])"
   ]
  },
  {
   "cell_type": "code",
   "execution_count": 86,
   "metadata": {},
   "outputs": [],
   "source": [
    "df_ads_aggregated[\"total_ads\"] = total_ads"
   ]
  },
  {
   "cell_type": "code",
   "execution_count": 87,
   "metadata": {},
   "outputs": [
    {
     "data": {
      "text/html": [
       "<div>\n",
       "<style scoped>\n",
       "    .dataframe tbody tr th:only-of-type {\n",
       "        vertical-align: middle;\n",
       "    }\n",
       "\n",
       "    .dataframe tbody tr th {\n",
       "        vertical-align: top;\n",
       "    }\n",
       "\n",
       "    .dataframe thead th {\n",
       "        text-align: right;\n",
       "    }\n",
       "</style>\n",
       "<table border=\"1\" class=\"dataframe\">\n",
       "  <thead>\n",
       "    <tr style=\"text-align: right;\">\n",
       "      <th></th>\n",
       "      <th>0</th>\n",
       "      <th>share_of_ads</th>\n",
       "      <th>total_ads</th>\n",
       "    </tr>\n",
       "    <tr>\n",
       "      <th>date_year_month2</th>\n",
       "      <th></th>\n",
       "      <th></th>\n",
       "      <th></th>\n",
       "    </tr>\n",
       "  </thead>\n",
       "  <tbody>\n",
       "    <tr>\n",
       "      <th>2019-03</th>\n",
       "      <td>1506</td>\n",
       "      <td>0.312085</td>\n",
       "      <td>470</td>\n",
       "    </tr>\n",
       "    <tr>\n",
       "      <th>2019-04</th>\n",
       "      <td>1590</td>\n",
       "      <td>0.311321</td>\n",
       "      <td>495</td>\n",
       "    </tr>\n",
       "    <tr>\n",
       "      <th>2019-05</th>\n",
       "      <td>1504</td>\n",
       "      <td>0.319814</td>\n",
       "      <td>481</td>\n",
       "    </tr>\n",
       "    <tr>\n",
       "      <th>2019-06</th>\n",
       "      <td>1511</td>\n",
       "      <td>0.342819</td>\n",
       "      <td>518</td>\n",
       "    </tr>\n",
       "    <tr>\n",
       "      <th>2019-07</th>\n",
       "      <td>1440</td>\n",
       "      <td>0.320833</td>\n",
       "      <td>462</td>\n",
       "    </tr>\n",
       "    <tr>\n",
       "      <th>2019-08</th>\n",
       "      <td>1372</td>\n",
       "      <td>0.274781</td>\n",
       "      <td>377</td>\n",
       "    </tr>\n",
       "    <tr>\n",
       "      <th>2019-09</th>\n",
       "      <td>1494</td>\n",
       "      <td>0.325301</td>\n",
       "      <td>486</td>\n",
       "    </tr>\n",
       "    <tr>\n",
       "      <th>2019-10</th>\n",
       "      <td>1408</td>\n",
       "      <td>0.332386</td>\n",
       "      <td>468</td>\n",
       "    </tr>\n",
       "    <tr>\n",
       "      <th>2019-11</th>\n",
       "      <td>1421</td>\n",
       "      <td>0.344828</td>\n",
       "      <td>490</td>\n",
       "    </tr>\n",
       "    <tr>\n",
       "      <th>2019-12</th>\n",
       "      <td>1518</td>\n",
       "      <td>0.378129</td>\n",
       "      <td>574</td>\n",
       "    </tr>\n",
       "    <tr>\n",
       "      <th>2020-01</th>\n",
       "      <td>1295</td>\n",
       "      <td>0.244788</td>\n",
       "      <td>317</td>\n",
       "    </tr>\n",
       "    <tr>\n",
       "      <th>2020-02</th>\n",
       "      <td>1326</td>\n",
       "      <td>0.284314</td>\n",
       "      <td>377</td>\n",
       "    </tr>\n",
       "    <tr>\n",
       "      <th>2020-03</th>\n",
       "      <td>1397</td>\n",
       "      <td>0.216178</td>\n",
       "      <td>302</td>\n",
       "    </tr>\n",
       "    <tr>\n",
       "      <th>2020-04</th>\n",
       "      <td>1320</td>\n",
       "      <td>0.195455</td>\n",
       "      <td>258</td>\n",
       "    </tr>\n",
       "    <tr>\n",
       "      <th>2020-05</th>\n",
       "      <td>1371</td>\n",
       "      <td>0.204960</td>\n",
       "      <td>281</td>\n",
       "    </tr>\n",
       "    <tr>\n",
       "      <th>2020-06</th>\n",
       "      <td>1249</td>\n",
       "      <td>0.236990</td>\n",
       "      <td>296</td>\n",
       "    </tr>\n",
       "    <tr>\n",
       "      <th>2020-07</th>\n",
       "      <td>459</td>\n",
       "      <td>0.224401</td>\n",
       "      <td>103</td>\n",
       "    </tr>\n",
       "  </tbody>\n",
       "</table>\n",
       "</div>"
      ],
      "text/plain": [
       "                     0  share_of_ads  total_ads\n",
       "date_year_month2                               \n",
       "2019-03           1506      0.312085        470\n",
       "2019-04           1590      0.311321        495\n",
       "2019-05           1504      0.319814        481\n",
       "2019-06           1511      0.342819        518\n",
       "2019-07           1440      0.320833        462\n",
       "2019-08           1372      0.274781        377\n",
       "2019-09           1494      0.325301        486\n",
       "2019-10           1408      0.332386        468\n",
       "2019-11           1421      0.344828        490\n",
       "2019-12           1518      0.378129        574\n",
       "2020-01           1295      0.244788        317\n",
       "2020-02           1326      0.284314        377\n",
       "2020-03           1397      0.216178        302\n",
       "2020-04           1320      0.195455        258\n",
       "2020-05           1371      0.204960        281\n",
       "2020-06           1249      0.236990        296\n",
       "2020-07            459      0.224401        103"
      ]
     },
     "execution_count": 87,
     "metadata": {},
     "output_type": "execute_result"
    }
   ],
   "source": [
    "df_ads_aggregated"
   ]
  },
  {
   "cell_type": "code",
   "execution_count": 93,
   "metadata": {},
   "outputs": [
    {
     "data": {
      "image/png": "[encoded data removed]",
      "text/plain": [
       "<Figure size 1080x504 with 1 Axes>"
      ]
     },
     "metadata": {},
     "output_type": "display_data"
    }
   ],
   "source": [
    "x = df_ads_aggregated.index\n",
    "energy = df_ads_aggregated.share_of_ads\n",
    "\n",
    "x_pos = [i for i, _ in enumerate(x)]\n",
    "\n",
    "plt.figure(figsize=(15,7))\n",
    "plt.bar(x_pos, energy)\n",
    "plt.xlabel(\"Month\")\n",
    "plt.ylabel(\"Share of ads\")\n",
    "\n",
    "plt.xticks(x_pos, x)\n",
    "\n",
    "#axes = plt.gca()\n",
    "#axes.set_ylim([1000,1600])\n",
    "\n",
    "plt.show()"
   ]
  },
  {
   "cell_type": "code",
   "execution_count": 94,
   "metadata": {},
   "outputs": [
    {
     "data": {
      "image/png": "[encoded data removed]",
      "text/plain": [
       "<Figure size 1080x504 with 1 Axes>"
      ]
     },
     "metadata": {},
     "output_type": "display_data"
    }
   ],
   "source": [
    "x = df_ads_aggregated.index\n",
    "energy = df_ads_aggregated.total_ads\n",
    "\n",
    "x_pos = [i for i, _ in enumerate(x)]\n",
    "\n",
    "plt.figure(figsize=(15,7))\n",
    "plt.bar(x_pos, energy)\n",
    "plt.xlabel(\"Month\")\n",
    "plt.ylabel(\"Total ads\")\n",
    "\n",
    "plt.xticks(x_pos, x)\n",
    "\n",
    "#axes = plt.gca()\n",
    "#axes.set_ylim([1000,1600])\n",
    "\n",
    "plt.show()"
   ]
  },
  {
   "cell_type": "code",
   "execution_count": 99,
   "metadata": {},
   "outputs": [
    {
     "data": {
      "text/plain": [
       "date_year_month2\n",
       "2019-03    470\n",
       "2019-04    495\n",
       "2019-05    481\n",
       "2019-06    518\n",
       "2019-07    462\n",
       "2019-08    377\n",
       "2019-09    486\n",
       "2019-10    468\n",
       "2019-11    490\n",
       "2019-12    574\n",
       "2020-01    317\n",
       "2020-02    377\n",
       "2020-03    302\n",
       "2020-04    258\n",
       "2020-05    281\n",
       "2020-06    296\n",
       "2020-07    103\n",
       "Name: total_ads, dtype: int64"
      ]
     },
     "execution_count": 99,
     "metadata": {},
     "output_type": "execute_result"
    }
   ],
   "source": [
    "df_ads_aggregated[\"total_ads\"]"
   ]
  },
  {
   "cell_type": "code",
   "execution_count": 104,
   "metadata": {},
   "outputs": [
    {
     "data": {
      "text/plain": [
       "-0.41839557399723376"
      ]
     },
     "execution_count": 104,
     "metadata": {},
     "output_type": "execute_result"
    }
   ],
   "source": [
    "get_total_percentage(pd.DataFrame(df_ads_aggregated[\"total_ads\"]))"
   ]
  },
  {
   "cell_type": "code",
   "execution_count": 106,
   "metadata": {},
   "outputs": [
    {
     "data": {
      "text/plain": [
       "-0.3462901253472711"
      ]
     },
     "execution_count": 106,
     "metadata": {},
     "output_type": "execute_result"
    }
   ],
   "source": [
    "get_total_percentage(pd.DataFrame(df_ads_aggregated[\"share_of_ads\"]))"
   ]
  },
  {
   "cell_type": "markdown",
   "metadata": {},
   "source": [
    "## Aggregated likes"
   ]
  },
  {
   "cell_type": "code",
   "execution_count": 12,
   "metadata": {},
   "outputs": [],
   "source": [
    "df_likes = df_posts.sort_values(by = [\"date\"])"
   ]
  },
  {
   "cell_type": "code",
   "execution_count": 13,
   "metadata": {},
   "outputs": [],
   "source": [
    "df_likes = df_likes[df_likes.likes != \"Error\"]"
   ]
  },
  {
   "cell_type": "code",
   "execution_count": 14,
   "metadata": {},
   "outputs": [],
   "source": [
    "df_likes[\"likes\"] = list(map(int, df_likes[\"likes\"]))"
   ]
  },
  {
   "cell_type": "code",
   "execution_count": 15,
   "metadata": {},
   "outputs": [
    {
     "data": {
      "text/plain": [
       "date_year_month2\n",
       "2019-03    1395\n",
       "2019-04    1468\n",
       "2019-05    1404\n",
       "2019-06    1405\n",
       "2019-07    1310\n",
       "2019-08    1256\n",
       "2019-09    1393\n",
       "2019-10    1299\n",
       "2019-11    1303\n",
       "2019-12    1389\n",
       "2020-01    1189\n",
       "2020-02    1202\n",
       "2020-03    1211\n",
       "2020-04    1114\n",
       "2020-05    1185\n",
       "2020-06    1133\n",
       "dtype: int64"
      ]
     },
     "execution_count": 15,
     "metadata": {},
     "output_type": "execute_result"
    }
   ],
   "source": [
    "df_likes.groupby([\"date_year_month2\"]).size()"
   ]
  },
  {
   "cell_type": "code",
   "execution_count": 16,
   "metadata": {
    "scrolled": true
   },
   "outputs": [
    {
     "data": {
      "text/plain": [
       "array([1395, 1468, 1404, 1405, 1310, 1256, 1393, 1299, 1303, 1389, 1189,\n",
       "       1202, 1211, 1114, 1185, 1133], dtype=int64)"
      ]
     },
     "execution_count": 16,
     "metadata": {},
     "output_type": "execute_result"
    }
   ],
   "source": [
    "df_likes.groupby([\"date_year_month2\"]).size().values"
   ]
  },
  {
   "cell_type": "code",
   "execution_count": 17,
   "metadata": {},
   "outputs": [],
   "source": [
    "likes_per_post = df_likes.groupby([\"date_year_month2\"]).likes.sum().values / df_likes.groupby([\"date_year_month2\"]).size().values"
   ]
  },
  {
   "cell_type": "code",
   "execution_count": 20,
   "metadata": {},
   "outputs": [
    {
     "data": {
      "text/plain": [
       "array([41426.94121864, 38836.53065395, 38706.68376068, 40758.58434164,\n",
       "       41109.62977099, 45305.62261146, 38613.67982771, 38970.06543495,\n",
       "       36503.12663085, 42530.81209503, 41163.98738436, 40508.86272879,\n",
       "       41883.00082576, 39407.93357271, 41468.30379747, 40859.18623124])"
      ]
     },
     "execution_count": 20,
     "metadata": {},
     "output_type": "execute_result"
    }
   ],
   "source": [
    "likes_per_post"
   ]
  },
  {
   "cell_type": "code",
   "execution_count": 18,
   "metadata": {},
   "outputs": [
    {
     "data": {
      "text/plain": [
       "array([40758.58434164, 41109.62977099, 45305.62261146, 38613.67982771,\n",
       "       38970.06543495, 36503.12663085, 42530.81209503, 41163.98738436,\n",
       "       40508.86272879, 41883.00082576, 39407.93357271, 41468.30379747,\n",
       "       40859.18623124])"
      ]
     },
     "execution_count": 18,
     "metadata": {},
     "output_type": "execute_result"
    }
   ],
   "source": [
    "#likes_per_post[3:]"
   ]
  },
  {
   "cell_type": "code",
   "execution_count": 21,
   "metadata": {},
   "outputs": [
    {
     "data": {
      "image/png": "[encoded data removed]",
      "text/plain": [
       "<Figure size 432x288 with 1 Axes>"
      ]
     },
     "metadata": {
      "needs_background": "light"
     },
     "output_type": "display_data"
    }
   ],
   "source": [
    "plt.plot(likes_per_post)\n",
    "axes = plt.gca()\n",
    "axes.set_ylim([0,50000])\n",
    "plt.show()"
   ]
  },
  {
   "cell_type": "code",
   "execution_count": 23,
   "metadata": {},
   "outputs": [
    {
     "data": {
      "text/plain": [
       "40503.30943039005"
      ]
     },
     "execution_count": 23,
     "metadata": {},
     "output_type": "execute_result"
    }
   ],
   "source": [
    "likes_per_post.mean()"
   ]
  },
  {
   "cell_type": "code",
   "execution_count": 25,
   "metadata": {},
   "outputs": [
    {
     "data": {
      "text/plain": [
       "1952.3329698307234"
      ]
     },
     "execution_count": 25,
     "metadata": {},
     "output_type": "execute_result"
    }
   ],
   "source": [
    "likes_per_post.std()"
   ]
  },
  {
   "cell_type": "code",
   "execution_count": 26,
   "metadata": {},
   "outputs": [
    {
     "data": {
      "text/plain": [
       "1952.3329698307234"
      ]
     },
     "execution_count": 26,
     "metadata": {},
     "output_type": "execute_result"
    }
   ],
   "source": [
    "np.std(likes_per_post)"
   ]
  },
  {
   "cell_type": "markdown",
   "metadata": {},
   "source": [
    "## Top posts"
   ]
  },
  {
   "cell_type": "code",
   "execution_count": 50,
   "metadata": {},
   "outputs": [],
   "source": [
    "df_posts1 = df_posts[df_posts.url == \"https://www.instagram.com/\"].sort_values(by=[\"likes\"],ascending=False)"
   ]
  },
  {
   "cell_type": "code",
   "execution_count": null,
   "metadata": {},
   "outputs": [],
   "source": [
    "df_posts1[df_posts1.likes != \"Error\"]"
   ]
  },
  {
   "cell_type": "code",
   "execution_count": null,
   "metadata": {},
   "outputs": [],
   "source": []
  }
 ],
 "metadata": {
  "jupytext": {
   "formats": "ipynb,py:percent"
  },
  "kernelspec": {
   "display_name": "Python 3",
   "language": "python",
   "name": "python3"
  },
  "language_info": {
   "codemirror_mode": {
    "name": "ipython",
    "version": 3
   },
   "file_extension": ".py",
   "mimetype": "text/x-python",
   "name": "python",
   "nbconvert_exporter": "python",
   "pygments_lexer": "ipython3",
   "version": "3.7.4"
  }
 },
 "nbformat": 4,
 "nbformat_minor": 2
}
